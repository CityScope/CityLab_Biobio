{
 "cells": [
  {
   "cell_type": "markdown",
   "metadata": {},
   "source": [
    "### COSTANERA GAMA ABM: PARAMETERS ADJUSTMENT PREPROCESSING"
   ]
  },
  {
   "cell_type": "markdown",
   "metadata": {},
   "source": [
    "#### Imports and data load"
   ]
  },
  {
   "cell_type": "code",
   "execution_count": 1,
   "metadata": {},
   "outputs": [],
   "source": [
    "# Imports\n",
    "\n",
    "import pandas as pd\n",
    "from sklearn.cluster import KMeans\n",
    "import numpy as np\n",
    "from matplotlib import pyplot"
   ]
  },
  {
   "cell_type": "code",
   "execution_count": 2,
   "metadata": {},
   "outputs": [],
   "source": [
    "# Reads the pickle files and store them in memory as DataFrames\n",
    "\n",
    "hogar_df = pd.read_pickle(\"./pkl/HOGAR.pkl\")\n",
    "persona_df = pd.read_pickle(\"./pkl/PERSONA.pkl\")\n",
    "tipo_asiento_df = pd.read_pickle(\"./pkl/Tipo Asiento.pkl\")\n",
    "viajes_df = pd.read_pickle(\"./pkl/VIAJES_LAB.pkl\")"
   ]
  },
  {
   "cell_type": "code",
   "execution_count": 3,
   "metadata": {},
   "outputs": [],
   "source": [
    "# Remove the '#' in the following line if it is required processing of CONCEPCION people only\n",
    "# persona_df = persona_df[persona_df['COMUNA']=='CONCEPCION']"
   ]
  },
  {
   "cell_type": "markdown",
   "metadata": {},
   "source": [
    "#### Basic data exploration"
   ]
  },
  {
   "cell_type": "code",
   "execution_count": 4,
   "metadata": {},
   "outputs": [
    {
     "data": {
      "text/html": [
       "<div>\n",
       "<style scoped>\n",
       "    .dataframe tbody tr th:only-of-type {\n",
       "        vertical-align: middle;\n",
       "    }\n",
       "\n",
       "    .dataframe tbody tr th {\n",
       "        vertical-align: top;\n",
       "    }\n",
       "\n",
       "    .dataframe thead th {\n",
       "        text-align: right;\n",
       "    }\n",
       "</style>\n",
       "<table border=\"1\" class=\"dataframe\">\n",
       "  <thead>\n",
       "    <tr style=\"text-align: right;\">\n",
       "      <th></th>\n",
       "      <th>Id</th>\n",
       "      <th>Folio</th>\n",
       "      <th>DireccionCalle</th>\n",
       "      <th>DireccionNumero</th>\n",
       "      <th>DireccionDepto</th>\n",
       "      <th>DireccionPiso</th>\n",
       "      <th>DireccionComuna</th>\n",
       "      <th>Coord_Hogar</th>\n",
       "      <th>Zona_Hogar</th>\n",
       "      <th>IdSector</th>\n",
       "      <th>...</th>\n",
       "      <th>FEH*FCHTH</th>\n",
       "      <th>IngresoMod</th>\n",
       "      <th>Estrato</th>\n",
       "      <th>FLab_2016</th>\n",
       "      <th>FSab_2016</th>\n",
       "      <th>FDom_2016</th>\n",
       "      <th>FTotal_2016</th>\n",
       "      <th>DireccionTelefono1_anon</th>\n",
       "      <th>DireccionTelefono2_anon</th>\n",
       "      <th>Encuestador_anon</th>\n",
       "    </tr>\n",
       "  </thead>\n",
       "  <tbody>\n",
       "    <tr>\n",
       "      <th>0</th>\n",
       "      <td>1</td>\n",
       "      <td>800011.0</td>\n",
       "      <td>PLAYA BRAVA</td>\n",
       "      <td>1178</td>\n",
       "      <td>.</td>\n",
       "      <td>.</td>\n",
       "      <td>TALCAHUANO</td>\n",
       "      <td>-36.714635, -73.138159</td>\n",
       "      <td>211.0</td>\n",
       "      <td>4</td>\n",
       "      <td>...</td>\n",
       "      <td>37.657484</td>\n",
       "      <td>600000.0</td>\n",
       "      <td>2</td>\n",
       "      <td>39.065853</td>\n",
       "      <td>0.0</td>\n",
       "      <td>0.0</td>\n",
       "      <td>35.883249</td>\n",
       "      <td>4a7cbbd293813907500750c6538c38db8e951ae564e42b...</td>\n",
       "      <td>f3f6d1113c414d6b2ecd47eddd3870c578c9578d921a10...</td>\n",
       "      <td>a07c380b53349b0cb9f063f0676e070e1e2f41e823a431...</td>\n",
       "    </tr>\n",
       "    <tr>\n",
       "      <th>1</th>\n",
       "      <td>2</td>\n",
       "      <td>800012.0</td>\n",
       "      <td>PLAYA LAS BALZAS</td>\n",
       "      <td>1101</td>\n",
       "      <td>.</td>\n",
       "      <td>.</td>\n",
       "      <td>TALCAHUANO</td>\n",
       "      <td>-36.714635, -73.138159</td>\n",
       "      <td>211.0</td>\n",
       "      <td>4</td>\n",
       "      <td>...</td>\n",
       "      <td>141.829419</td>\n",
       "      <td>580000.0</td>\n",
       "      <td>2</td>\n",
       "      <td>82.115282</td>\n",
       "      <td>0.0</td>\n",
       "      <td>0.0</td>\n",
       "      <td>70.956238</td>\n",
       "      <td>787f4ac95c127ceb7fb0ffd45ab7034eea53a8ae65b6aa...</td>\n",
       "      <td>f3f6d1113c414d6b2ecd47eddd3870c578c9578d921a10...</td>\n",
       "      <td>a07c380b53349b0cb9f063f0676e070e1e2f41e823a431...</td>\n",
       "    </tr>\n",
       "    <tr>\n",
       "      <th>2</th>\n",
       "      <td>3</td>\n",
       "      <td>800021.0</td>\n",
       "      <td>JUAN JOSE MANZANO</td>\n",
       "      <td>82</td>\n",
       "      <td>.</td>\n",
       "      <td>.</td>\n",
       "      <td>CONCEPCION</td>\n",
       "      <td>-36.810853, -73.028669</td>\n",
       "      <td>811.0</td>\n",
       "      <td>1</td>\n",
       "      <td>...</td>\n",
       "      <td>35.549236</td>\n",
       "      <td>600000.0</td>\n",
       "      <td>2</td>\n",
       "      <td>47.784849</td>\n",
       "      <td>0.0</td>\n",
       "      <td>0.0</td>\n",
       "      <td>42.372774</td>\n",
       "      <td>98f83fe8b539f90f6644e08571438337ed7f2b4fee6598...</td>\n",
       "      <td>f3f6d1113c414d6b2ecd47eddd3870c578c9578d921a10...</td>\n",
       "      <td>811599b811834405bb20c2bf5e1007875757c054b3afdd...</td>\n",
       "    </tr>\n",
       "    <tr>\n",
       "      <th>3</th>\n",
       "      <td>4</td>\n",
       "      <td>800022.0</td>\n",
       "      <td>IRARRAZABAL</td>\n",
       "      <td>855</td>\n",
       "      <td>.</td>\n",
       "      <td>.</td>\n",
       "      <td>CONCEPCION</td>\n",
       "      <td>-36.810853, -73.028669</td>\n",
       "      <td>811.0</td>\n",
       "      <td>1</td>\n",
       "      <td>...</td>\n",
       "      <td>92.137875</td>\n",
       "      <td>182000.0</td>\n",
       "      <td>1</td>\n",
       "      <td>39.527745</td>\n",
       "      <td>0.0</td>\n",
       "      <td>0.0</td>\n",
       "      <td>35.085122</td>\n",
       "      <td>98f83fe8b539f90f6644e08571438337ed7f2b4fee6598...</td>\n",
       "      <td>f3f6d1113c414d6b2ecd47eddd3870c578c9578d921a10...</td>\n",
       "      <td>811599b811834405bb20c2bf5e1007875757c054b3afdd...</td>\n",
       "    </tr>\n",
       "    <tr>\n",
       "      <th>4</th>\n",
       "      <td>5</td>\n",
       "      <td>800031.0</td>\n",
       "      <td>JOSE ZAMBRANO OPAZO</td>\n",
       "      <td>1186</td>\n",
       "      <td>.</td>\n",
       "      <td>.</td>\n",
       "      <td>CORONEL</td>\n",
       "      <td>-36.994425, -73.147444</td>\n",
       "      <td>2830.0</td>\n",
       "      <td>9</td>\n",
       "      <td>...</td>\n",
       "      <td>48.952110</td>\n",
       "      <td>1250000.0</td>\n",
       "      <td>3</td>\n",
       "      <td>82.299423</td>\n",
       "      <td>0.0</td>\n",
       "      <td>0.0</td>\n",
       "      <td>47.369403</td>\n",
       "      <td>b4229877c79922eb35f82a35826975d07f36c3106a4244...</td>\n",
       "      <td>f3f6d1113c414d6b2ecd47eddd3870c578c9578d921a10...</td>\n",
       "      <td>37768d2041cab665a7f804ab21eff81abb527198c89e25...</td>\n",
       "    </tr>\n",
       "  </tbody>\n",
       "</table>\n",
       "<p>5 rows × 55 columns</p>\n",
       "</div>"
      ],
      "text/plain": [
       "   Id     Folio       DireccionCalle DireccionNumero DireccionDepto  \\\n",
       "0   1  800011.0          PLAYA BRAVA            1178              .   \n",
       "1   2  800012.0     PLAYA LAS BALZAS            1101              .   \n",
       "2   3  800021.0    JUAN JOSE MANZANO              82              .   \n",
       "3   4  800022.0          IRARRAZABAL             855              .   \n",
       "4   5  800031.0  JOSE ZAMBRANO OPAZO            1186              .   \n",
       "\n",
       "  DireccionPiso DireccionComuna             Coord_Hogar  Zona_Hogar  IdSector  \\\n",
       "0             .      TALCAHUANO  -36.714635, -73.138159       211.0         4   \n",
       "1             .      TALCAHUANO  -36.714635, -73.138159       211.0         4   \n",
       "2             .      CONCEPCION  -36.810853, -73.028669       811.0         1   \n",
       "3             .      CONCEPCION  -36.810853, -73.028669       811.0         1   \n",
       "4             .         CORONEL  -36.994425, -73.147444      2830.0         9   \n",
       "\n",
       "   ...   FEH*FCHTH  IngresoMod  Estrato  FLab_2016  FSab_2016  FDom_2016  \\\n",
       "0  ...   37.657484    600000.0        2  39.065853        0.0        0.0   \n",
       "1  ...  141.829419    580000.0        2  82.115282        0.0        0.0   \n",
       "2  ...   35.549236    600000.0        2  47.784849        0.0        0.0   \n",
       "3  ...   92.137875    182000.0        1  39.527745        0.0        0.0   \n",
       "4  ...   48.952110   1250000.0        3  82.299423        0.0        0.0   \n",
       "\n",
       "   FTotal_2016                            DireccionTelefono1_anon  \\\n",
       "0    35.883249  4a7cbbd293813907500750c6538c38db8e951ae564e42b...   \n",
       "1    70.956238  787f4ac95c127ceb7fb0ffd45ab7034eea53a8ae65b6aa...   \n",
       "2    42.372774  98f83fe8b539f90f6644e08571438337ed7f2b4fee6598...   \n",
       "3    35.085122  98f83fe8b539f90f6644e08571438337ed7f2b4fee6598...   \n",
       "4    47.369403  b4229877c79922eb35f82a35826975d07f36c3106a4244...   \n",
       "\n",
       "                             DireccionTelefono2_anon  \\\n",
       "0  f3f6d1113c414d6b2ecd47eddd3870c578c9578d921a10...   \n",
       "1  f3f6d1113c414d6b2ecd47eddd3870c578c9578d921a10...   \n",
       "2  f3f6d1113c414d6b2ecd47eddd3870c578c9578d921a10...   \n",
       "3  f3f6d1113c414d6b2ecd47eddd3870c578c9578d921a10...   \n",
       "4  f3f6d1113c414d6b2ecd47eddd3870c578c9578d921a10...   \n",
       "\n",
       "                                    Encuestador_anon  \n",
       "0  a07c380b53349b0cb9f063f0676e070e1e2f41e823a431...  \n",
       "1  a07c380b53349b0cb9f063f0676e070e1e2f41e823a431...  \n",
       "2  811599b811834405bb20c2bf5e1007875757c054b3afdd...  \n",
       "3  811599b811834405bb20c2bf5e1007875757c054b3afdd...  \n",
       "4  37768d2041cab665a7f804ab21eff81abb527198c89e25...  \n",
       "\n",
       "[5 rows x 55 columns]"
      ]
     },
     "execution_count": 4,
     "metadata": {},
     "output_type": "execute_result"
    }
   ],
   "source": [
    "hogar_df.head()\n"
   ]
  },
  {
   "cell_type": "code",
   "execution_count": 5,
   "metadata": {},
   "outputs": [
    {
     "data": {
      "text/html": [
       "<div>\n",
       "<style scoped>\n",
       "    .dataframe tbody tr th:only-of-type {\n",
       "        vertical-align: middle;\n",
       "    }\n",
       "\n",
       "    .dataframe tbody tr th {\n",
       "        vertical-align: top;\n",
       "    }\n",
       "\n",
       "    .dataframe thead th {\n",
       "        text-align: right;\n",
       "    }\n",
       "</style>\n",
       "<table border=\"1\" class=\"dataframe\">\n",
       "  <thead>\n",
       "    <tr style=\"text-align: right;\">\n",
       "      <th></th>\n",
       "      <th>Id</th>\n",
       "      <th>Folio</th>\n",
       "      <th>ordenpersona</th>\n",
       "      <th>DiaEntrevista</th>\n",
       "      <th>MesEntrevista</th>\n",
       "      <th>HoraEntrevista</th>\n",
       "      <th>MinutoEntrevista</th>\n",
       "      <th>Sexo</th>\n",
       "      <th>Parentesco</th>\n",
       "      <th>MesNacimiento</th>\n",
       "      <th>...</th>\n",
       "      <th>FEP*FCTH*FCSE</th>\n",
       "      <th>IngresoMod</th>\n",
       "      <th>FLab_2015</th>\n",
       "      <th>FSab_2015</th>\n",
       "      <th>FDom_2015</th>\n",
       "      <th>FTotal_2015</th>\n",
       "      <th>TelefonoContacto1_anon</th>\n",
       "      <th>TelefonoContacto2_anon</th>\n",
       "      <th>Encuestador_anon</th>\n",
       "      <th>Nombre_anon</th>\n",
       "    </tr>\n",
       "  </thead>\n",
       "  <tbody>\n",
       "    <tr>\n",
       "      <th>0</th>\n",
       "      <td>364</td>\n",
       "      <td>800011.0</td>\n",
       "      <td>1.0</td>\n",
       "      <td>8.0</td>\n",
       "      <td>8.0</td>\n",
       "      <td>15.0</td>\n",
       "      <td>0.0</td>\n",
       "      <td>1.0</td>\n",
       "      <td>1.0</td>\n",
       "      <td>4.0</td>\n",
       "      <td>...</td>\n",
       "      <td>36.892817</td>\n",
       "      <td>600000</td>\n",
       "      <td>52.157739</td>\n",
       "      <td>0.0</td>\n",
       "      <td>0.0</td>\n",
       "      <td>46.923991</td>\n",
       "      <td>11c24a5ee89a6d69cc44c8688a0cf9ae70567a886fc0ed...</td>\n",
       "      <td>3f700a329526c667b3a316b496e08cb4a570b37ce46666...</td>\n",
       "      <td>085a954d32f41a41f935fee64ffba86d2bd9b8fbebc328...</td>\n",
       "      <td>ddbbea38709264e4941509a77c32aaea5a3b1cb8291fe3...</td>\n",
       "    </tr>\n",
       "    <tr>\n",
       "      <th>1</th>\n",
       "      <td>365</td>\n",
       "      <td>800011.0</td>\n",
       "      <td>2.0</td>\n",
       "      <td>8.0</td>\n",
       "      <td>8.0</td>\n",
       "      <td>15.0</td>\n",
       "      <td>10.0</td>\n",
       "      <td>2.0</td>\n",
       "      <td>2.0</td>\n",
       "      <td>2.0</td>\n",
       "      <td>...</td>\n",
       "      <td>45.856684</td>\n",
       "      <td>0</td>\n",
       "      <td>52.870303</td>\n",
       "      <td>0.0</td>\n",
       "      <td>0.0</td>\n",
       "      <td>48.196786</td>\n",
       "      <td>11c24a5ee89a6d69cc44c8688a0cf9ae70567a886fc0ed...</td>\n",
       "      <td>3f700a329526c667b3a316b496e08cb4a570b37ce46666...</td>\n",
       "      <td>085a954d32f41a41f935fee64ffba86d2bd9b8fbebc328...</td>\n",
       "      <td>cafcf357ff61ce65c3e313ea6282de1ebb548a660ce7e9...</td>\n",
       "    </tr>\n",
       "    <tr>\n",
       "      <th>2</th>\n",
       "      <td>366</td>\n",
       "      <td>800011.0</td>\n",
       "      <td>3.0</td>\n",
       "      <td>8.0</td>\n",
       "      <td>8.0</td>\n",
       "      <td>15.0</td>\n",
       "      <td>30.0</td>\n",
       "      <td>2.0</td>\n",
       "      <td>3.0</td>\n",
       "      <td>9.0</td>\n",
       "      <td>...</td>\n",
       "      <td>39.723055</td>\n",
       "      <td>0</td>\n",
       "      <td>55.935987</td>\n",
       "      <td>0.0</td>\n",
       "      <td>0.0</td>\n",
       "      <td>51.974396</td>\n",
       "      <td>11c24a5ee89a6d69cc44c8688a0cf9ae70567a886fc0ed...</td>\n",
       "      <td>3f700a329526c667b3a316b496e08cb4a570b37ce46666...</td>\n",
       "      <td>085a954d32f41a41f935fee64ffba86d2bd9b8fbebc328...</td>\n",
       "      <td>f8b9509b5b4fb489f291a4e9cba6dbfa3d5e6de1edac4b...</td>\n",
       "    </tr>\n",
       "    <tr>\n",
       "      <th>3</th>\n",
       "      <td>367</td>\n",
       "      <td>800012.0</td>\n",
       "      <td>1.0</td>\n",
       "      <td>22.0</td>\n",
       "      <td>6.0</td>\n",
       "      <td>13.0</td>\n",
       "      <td>58.0</td>\n",
       "      <td>1.0</td>\n",
       "      <td>1.0</td>\n",
       "      <td>12.0</td>\n",
       "      <td>...</td>\n",
       "      <td>105.634103</td>\n",
       "      <td>300000</td>\n",
       "      <td>53.357253</td>\n",
       "      <td>0.0</td>\n",
       "      <td>0.0</td>\n",
       "      <td>46.941473</td>\n",
       "      <td>b51f5c68095bf0e8e5419ea9f435147bf562d44cd49de0...</td>\n",
       "      <td>3f700a329526c667b3a316b496e08cb4a570b37ce46666...</td>\n",
       "      <td>085a954d32f41a41f935fee64ffba86d2bd9b8fbebc328...</td>\n",
       "      <td>f4d39aa0d3ddad84225d1ec044282e1f53f8ea2189aebc...</td>\n",
       "    </tr>\n",
       "    <tr>\n",
       "      <th>4</th>\n",
       "      <td>368</td>\n",
       "      <td>800012.0</td>\n",
       "      <td>2.0</td>\n",
       "      <td>22.0</td>\n",
       "      <td>6.0</td>\n",
       "      <td>14.0</td>\n",
       "      <td>34.0</td>\n",
       "      <td>2.0</td>\n",
       "      <td>2.0</td>\n",
       "      <td>6.0</td>\n",
       "      <td>...</td>\n",
       "      <td>164.368676</td>\n",
       "      <td>80000</td>\n",
       "      <td>52.870303</td>\n",
       "      <td>0.0</td>\n",
       "      <td>0.0</td>\n",
       "      <td>48.196786</td>\n",
       "      <td>b51f5c68095bf0e8e5419ea9f435147bf562d44cd49de0...</td>\n",
       "      <td>3f700a329526c667b3a316b496e08cb4a570b37ce46666...</td>\n",
       "      <td>085a954d32f41a41f935fee64ffba86d2bd9b8fbebc328...</td>\n",
       "      <td>c2d00230ae2bf46138d4b471b86bbeb5944acabcb4a343...</td>\n",
       "    </tr>\n",
       "  </tbody>\n",
       "</table>\n",
       "<p>5 rows × 109 columns</p>\n",
       "</div>"
      ],
      "text/plain": [
       "    Id     Folio  ordenpersona  DiaEntrevista  MesEntrevista  HoraEntrevista  \\\n",
       "0  364  800011.0           1.0            8.0            8.0            15.0   \n",
       "1  365  800011.0           2.0            8.0            8.0            15.0   \n",
       "2  366  800011.0           3.0            8.0            8.0            15.0   \n",
       "3  367  800012.0           1.0           22.0            6.0            13.0   \n",
       "4  368  800012.0           2.0           22.0            6.0            14.0   \n",
       "\n",
       "   MinutoEntrevista  Sexo  Parentesco  MesNacimiento  ...  FEP*FCTH*FCSE  \\\n",
       "0               0.0   1.0         1.0            4.0  ...      36.892817   \n",
       "1              10.0   2.0         2.0            2.0  ...      45.856684   \n",
       "2              30.0   2.0         3.0            9.0  ...      39.723055   \n",
       "3              58.0   1.0         1.0           12.0  ...     105.634103   \n",
       "4              34.0   2.0         2.0            6.0  ...     164.368676   \n",
       "\n",
       "   IngresoMod  FLab_2015 FSab_2015  FDom_2015  FTotal_2015  \\\n",
       "0      600000  52.157739       0.0        0.0    46.923991   \n",
       "1           0  52.870303       0.0        0.0    48.196786   \n",
       "2           0  55.935987       0.0        0.0    51.974396   \n",
       "3      300000  53.357253       0.0        0.0    46.941473   \n",
       "4       80000  52.870303       0.0        0.0    48.196786   \n",
       "\n",
       "                              TelefonoContacto1_anon  \\\n",
       "0  11c24a5ee89a6d69cc44c8688a0cf9ae70567a886fc0ed...   \n",
       "1  11c24a5ee89a6d69cc44c8688a0cf9ae70567a886fc0ed...   \n",
       "2  11c24a5ee89a6d69cc44c8688a0cf9ae70567a886fc0ed...   \n",
       "3  b51f5c68095bf0e8e5419ea9f435147bf562d44cd49de0...   \n",
       "4  b51f5c68095bf0e8e5419ea9f435147bf562d44cd49de0...   \n",
       "\n",
       "                              TelefonoContacto2_anon  \\\n",
       "0  3f700a329526c667b3a316b496e08cb4a570b37ce46666...   \n",
       "1  3f700a329526c667b3a316b496e08cb4a570b37ce46666...   \n",
       "2  3f700a329526c667b3a316b496e08cb4a570b37ce46666...   \n",
       "3  3f700a329526c667b3a316b496e08cb4a570b37ce46666...   \n",
       "4  3f700a329526c667b3a316b496e08cb4a570b37ce46666...   \n",
       "\n",
       "                                    Encuestador_anon  \\\n",
       "0  085a954d32f41a41f935fee64ffba86d2bd9b8fbebc328...   \n",
       "1  085a954d32f41a41f935fee64ffba86d2bd9b8fbebc328...   \n",
       "2  085a954d32f41a41f935fee64ffba86d2bd9b8fbebc328...   \n",
       "3  085a954d32f41a41f935fee64ffba86d2bd9b8fbebc328...   \n",
       "4  085a954d32f41a41f935fee64ffba86d2bd9b8fbebc328...   \n",
       "\n",
       "                                         Nombre_anon  \n",
       "0  ddbbea38709264e4941509a77c32aaea5a3b1cb8291fe3...  \n",
       "1  cafcf357ff61ce65c3e313ea6282de1ebb548a660ce7e9...  \n",
       "2  f8b9509b5b4fb489f291a4e9cba6dbfa3d5e6de1edac4b...  \n",
       "3  f4d39aa0d3ddad84225d1ec044282e1f53f8ea2189aebc...  \n",
       "4  c2d00230ae2bf46138d4b471b86bbeb5944acabcb4a343...  \n",
       "\n",
       "[5 rows x 109 columns]"
      ]
     },
     "execution_count": 5,
     "metadata": {},
     "output_type": "execute_result"
    }
   ],
   "source": [
    "persona_df.head()"
   ]
  },
  {
   "cell_type": "code",
   "execution_count": 6,
   "metadata": {},
   "outputs": [
    {
     "data": {
      "text/html": [
       "<div>\n",
       "<style scoped>\n",
       "    .dataframe tbody tr th:only-of-type {\n",
       "        vertical-align: middle;\n",
       "    }\n",
       "\n",
       "    .dataframe tbody tr th {\n",
       "        vertical-align: top;\n",
       "    }\n",
       "\n",
       "    .dataframe thead th {\n",
       "        text-align: right;\n",
       "    }\n",
       "</style>\n",
       "<table border=\"1\" class=\"dataframe\">\n",
       "  <thead>\n",
       "    <tr style=\"text-align: right;\">\n",
       "      <th></th>\n",
       "      <th>Id</th>\n",
       "      <th>Concatenado</th>\n",
       "      <th>Folio</th>\n",
       "      <th>IdFolio</th>\n",
       "      <th>OrdenPersona</th>\n",
       "      <th>OrdenViaje</th>\n",
       "      <th>OrdenEtapa</th>\n",
       "      <th>ModoEtapa</th>\n",
       "      <th>CuadrasCaminadasAntes</th>\n",
       "      <th>MinutosCaminadosAntes</th>\n",
       "      <th>...</th>\n",
       "      <th>Zona_LugarBajoVehiculo</th>\n",
       "      <th>Sector_LugarBajoVehiculo</th>\n",
       "      <th>DondeEstacionoVehiculo</th>\n",
       "      <th>LugarEstacionoVehiculo</th>\n",
       "      <th>MontoPagoEstacionamiento</th>\n",
       "      <th>TipoPagoEstacionamiento</th>\n",
       "      <th>LugarEstacionoBicicleta</th>\n",
       "      <th>FactorExpansionE</th>\n",
       "      <th>KEY_Etapa</th>\n",
       "      <th>Campo38</th>\n",
       "    </tr>\n",
       "  </thead>\n",
       "  <tbody>\n",
       "    <tr>\n",
       "      <th>0</th>\n",
       "      <td>1</td>\n",
       "      <td>8000113</td>\n",
       "      <td>800011</td>\n",
       "      <td>800011.0</td>\n",
       "      <td>3.0</td>\n",
       "      <td>1.0</td>\n",
       "      <td>1.0</td>\n",
       "      <td>4.0</td>\n",
       "      <td>1.0</td>\n",
       "      <td>2.0</td>\n",
       "      <td>...</td>\n",
       "      <td></td>\n",
       "      <td></td>\n",
       "      <td>NaN</td>\n",
       "      <td>NaN</td>\n",
       "      <td>NaN</td>\n",
       "      <td></td>\n",
       "      <td></td>\n",
       "      <td>1.0</td>\n",
       "      <td>800011_3_1</td>\n",
       "      <td></td>\n",
       "    </tr>\n",
       "    <tr>\n",
       "      <th>1</th>\n",
       "      <td>2</td>\n",
       "      <td>8000113</td>\n",
       "      <td>800011</td>\n",
       "      <td>800011.0</td>\n",
       "      <td>3.0</td>\n",
       "      <td>2.0</td>\n",
       "      <td>1.0</td>\n",
       "      <td>4.0</td>\n",
       "      <td>2.0</td>\n",
       "      <td>4.0</td>\n",
       "      <td>...</td>\n",
       "      <td></td>\n",
       "      <td></td>\n",
       "      <td>NaN</td>\n",
       "      <td>NaN</td>\n",
       "      <td>NaN</td>\n",
       "      <td></td>\n",
       "      <td></td>\n",
       "      <td>1.0</td>\n",
       "      <td>800011_3_2</td>\n",
       "      <td></td>\n",
       "    </tr>\n",
       "    <tr>\n",
       "      <th>2</th>\n",
       "      <td>3</td>\n",
       "      <td>8000121</td>\n",
       "      <td>800012</td>\n",
       "      <td>800012.0</td>\n",
       "      <td>1.0</td>\n",
       "      <td>1.0</td>\n",
       "      <td>1.0</td>\n",
       "      <td>4.0</td>\n",
       "      <td>NaN</td>\n",
       "      <td>NaN</td>\n",
       "      <td>...</td>\n",
       "      <td></td>\n",
       "      <td></td>\n",
       "      <td>NaN</td>\n",
       "      <td>NaN</td>\n",
       "      <td>NaN</td>\n",
       "      <td></td>\n",
       "      <td></td>\n",
       "      <td>1.0</td>\n",
       "      <td>800012_1_1</td>\n",
       "      <td></td>\n",
       "    </tr>\n",
       "    <tr>\n",
       "      <th>3</th>\n",
       "      <td>4</td>\n",
       "      <td>8000122</td>\n",
       "      <td>800012</td>\n",
       "      <td>800012.0</td>\n",
       "      <td>2.0</td>\n",
       "      <td>1.0</td>\n",
       "      <td>1.0</td>\n",
       "      <td>4.0</td>\n",
       "      <td>NaN</td>\n",
       "      <td>NaN</td>\n",
       "      <td>...</td>\n",
       "      <td></td>\n",
       "      <td></td>\n",
       "      <td>NaN</td>\n",
       "      <td>NaN</td>\n",
       "      <td>NaN</td>\n",
       "      <td></td>\n",
       "      <td></td>\n",
       "      <td>1.0</td>\n",
       "      <td>800012_2_1</td>\n",
       "      <td></td>\n",
       "    </tr>\n",
       "    <tr>\n",
       "      <th>4</th>\n",
       "      <td>5</td>\n",
       "      <td>8000122</td>\n",
       "      <td>800012</td>\n",
       "      <td>800012.0</td>\n",
       "      <td>2.0</td>\n",
       "      <td>2.0</td>\n",
       "      <td>1.0</td>\n",
       "      <td>4.0</td>\n",
       "      <td>NaN</td>\n",
       "      <td>NaN</td>\n",
       "      <td>...</td>\n",
       "      <td></td>\n",
       "      <td></td>\n",
       "      <td>NaN</td>\n",
       "      <td>NaN</td>\n",
       "      <td>NaN</td>\n",
       "      <td></td>\n",
       "      <td></td>\n",
       "      <td>1.0</td>\n",
       "      <td>800012_2_2</td>\n",
       "      <td></td>\n",
       "    </tr>\n",
       "  </tbody>\n",
       "</table>\n",
       "<p>5 rows × 41 columns</p>\n",
       "</div>"
      ],
      "text/plain": [
       "   Id Concatenado   Folio   IdFolio  OrdenPersona  OrdenViaje  OrdenEtapa  \\\n",
       "0   1     8000113  800011  800011.0           3.0         1.0         1.0   \n",
       "1   2     8000113  800011  800011.0           3.0         2.0         1.0   \n",
       "2   3     8000121  800012  800012.0           1.0         1.0         1.0   \n",
       "3   4     8000122  800012  800012.0           2.0         1.0         1.0   \n",
       "4   5     8000122  800012  800012.0           2.0         2.0         1.0   \n",
       "\n",
       "   ModoEtapa  CuadrasCaminadasAntes  MinutosCaminadosAntes  ...  \\\n",
       "0        4.0                    1.0                    2.0  ...   \n",
       "1        4.0                    2.0                    4.0  ...   \n",
       "2        4.0                    NaN                    NaN  ...   \n",
       "3        4.0                    NaN                    NaN  ...   \n",
       "4        4.0                    NaN                    NaN  ...   \n",
       "\n",
       "   Zona_LugarBajoVehiculo  Sector_LugarBajoVehiculo DondeEstacionoVehiculo  \\\n",
       "0                                                                      NaN   \n",
       "1                                                                      NaN   \n",
       "2                                                                      NaN   \n",
       "3                                                                      NaN   \n",
       "4                                                                      NaN   \n",
       "\n",
       "  LugarEstacionoVehiculo MontoPagoEstacionamiento TipoPagoEstacionamiento  \\\n",
       "0                    NaN                      NaN                           \n",
       "1                    NaN                      NaN                           \n",
       "2                    NaN                      NaN                           \n",
       "3                    NaN                      NaN                           \n",
       "4                    NaN                      NaN                           \n",
       "\n",
       "   LugarEstacionoBicicleta  FactorExpansionE   KEY_Etapa Campo38  \n",
       "0                                        1.0  800011_3_1          \n",
       "1                                        1.0  800011_3_2          \n",
       "2                                        1.0  800012_1_1          \n",
       "3                                        1.0  800012_2_1          \n",
       "4                                        1.0  800012_2_2          \n",
       "\n",
       "[5 rows x 41 columns]"
      ]
     },
     "execution_count": 6,
     "metadata": {},
     "output_type": "execute_result"
    }
   ],
   "source": [
    "tipo_asiento_df.head()"
   ]
  },
  {
   "cell_type": "code",
   "execution_count": 7,
   "metadata": {},
   "outputs": [
    {
     "data": {
      "text/html": [
       "<div>\n",
       "<style scoped>\n",
       "    .dataframe tbody tr th:only-of-type {\n",
       "        vertical-align: middle;\n",
       "    }\n",
       "\n",
       "    .dataframe tbody tr th {\n",
       "        vertical-align: top;\n",
       "    }\n",
       "\n",
       "    .dataframe thead th {\n",
       "        text-align: right;\n",
       "    }\n",
       "</style>\n",
       "<table border=\"1\" class=\"dataframe\">\n",
       "  <thead>\n",
       "    <tr style=\"text-align: right;\">\n",
       "      <th></th>\n",
       "      <th>Id</th>\n",
       "      <th>Campo1</th>\n",
       "      <th>Folio</th>\n",
       "      <th>ordenpersona</th>\n",
       "      <th>ordenviaje</th>\n",
       "      <th>PropositoEstraus</th>\n",
       "      <th>Proposito</th>\n",
       "      <th>Proposito Volver Casa</th>\n",
       "      <th>Proposito_e</th>\n",
       "      <th>OrigenActividadComuna</th>\n",
       "      <th>...</th>\n",
       "      <th>COMUNA DESTINO VIAJE</th>\n",
       "      <th>Distancia Viaje</th>\n",
       "      <th>FEP</th>\n",
       "      <th>FCTH</th>\n",
       "      <th>FCSE</th>\n",
       "      <th>FEP*FCTH*FCSE</th>\n",
       "      <th>Per_Mod</th>\n",
       "      <th>ModoInf</th>\n",
       "      <th>Ftotal</th>\n",
       "      <th>FLaboral</th>\n",
       "    </tr>\n",
       "  </thead>\n",
       "  <tbody>\n",
       "    <tr>\n",
       "      <th>0</th>\n",
       "      <td>27</td>\n",
       "      <td>8000113</td>\n",
       "      <td>800011.0</td>\n",
       "      <td>3.0</td>\n",
       "      <td>1.0</td>\n",
       "      <td>3</td>\n",
       "      <td>11.0</td>\n",
       "      <td>NaN</td>\n",
       "      <td></td>\n",
       "      <td>TALCAHUANO</td>\n",
       "      <td>...</td>\n",
       "      <td>TALCAHUANO</td>\n",
       "      <td>mayor a 10 km</td>\n",
       "      <td>44.525486</td>\n",
       "      <td>0.89884425609</td>\n",
       "      <td>0.9925434444</td>\n",
       "      <td>39.723055</td>\n",
       "      <td>4</td>\n",
       "      <td>5</td>\n",
       "      <td>51.974396</td>\n",
       "      <td>55.935987</td>\n",
       "    </tr>\n",
       "    <tr>\n",
       "      <th>1</th>\n",
       "      <td>28</td>\n",
       "      <td>8000113</td>\n",
       "      <td>800011.0</td>\n",
       "      <td>3.0</td>\n",
       "      <td>2.0</td>\n",
       "      <td>3</td>\n",
       "      <td>7.0</td>\n",
       "      <td>11.0</td>\n",
       "      <td></td>\n",
       "      <td>TALCAHUANO</td>\n",
       "      <td>...</td>\n",
       "      <td>TALCAHUANO</td>\n",
       "      <td>mayor a 10 km</td>\n",
       "      <td>44.525486</td>\n",
       "      <td>0.89884425609</td>\n",
       "      <td>0.9925434444</td>\n",
       "      <td>39.723055</td>\n",
       "      <td>5</td>\n",
       "      <td>5</td>\n",
       "      <td>51.974396</td>\n",
       "      <td>55.935987</td>\n",
       "    </tr>\n",
       "    <tr>\n",
       "      <th>2</th>\n",
       "      <td>29</td>\n",
       "      <td>8000121</td>\n",
       "      <td>800012.0</td>\n",
       "      <td>1.0</td>\n",
       "      <td>1.0</td>\n",
       "      <td>3</td>\n",
       "      <td>7.0</td>\n",
       "      <td>7.0</td>\n",
       "      <td></td>\n",
       "      <td>CONCEPCION</td>\n",
       "      <td>...</td>\n",
       "      <td>TALCAHUANO</td>\n",
       "      <td>mayor a 10 km</td>\n",
       "      <td>44.525486</td>\n",
       "      <td>3.2218169397</td>\n",
       "      <td>0.73636750398</td>\n",
       "      <td>105.634103</td>\n",
       "      <td>2</td>\n",
       "      <td>5</td>\n",
       "      <td>46.941473</td>\n",
       "      <td>53.357253</td>\n",
       "    </tr>\n",
       "    <tr>\n",
       "      <th>3</th>\n",
       "      <td>30</td>\n",
       "      <td>8000122</td>\n",
       "      <td>800012.0</td>\n",
       "      <td>2.0</td>\n",
       "      <td>1.0</td>\n",
       "      <td>1</td>\n",
       "      <td>1.0</td>\n",
       "      <td>NaN</td>\n",
       "      <td></td>\n",
       "      <td>TALCAHUANO</td>\n",
       "      <td>...</td>\n",
       "      <td>HUALPEN</td>\n",
       "      <td>mayor a 10 km</td>\n",
       "      <td>44.525486</td>\n",
       "      <td>3.2218169397</td>\n",
       "      <td>1.1458018656</td>\n",
       "      <td>164.368676</td>\n",
       "      <td>1</td>\n",
       "      <td>5</td>\n",
       "      <td>48.196786</td>\n",
       "      <td>52.870303</td>\n",
       "    </tr>\n",
       "    <tr>\n",
       "      <th>4</th>\n",
       "      <td>31</td>\n",
       "      <td>8000122</td>\n",
       "      <td>800012.0</td>\n",
       "      <td>2.0</td>\n",
       "      <td>2.0</td>\n",
       "      <td>1</td>\n",
       "      <td>7.0</td>\n",
       "      <td>1.0</td>\n",
       "      <td></td>\n",
       "      <td>HUALPEN</td>\n",
       "      <td>...</td>\n",
       "      <td>TALCAHUANO</td>\n",
       "      <td>mayor a 10 km</td>\n",
       "      <td>44.525486</td>\n",
       "      <td>3.2218169397</td>\n",
       "      <td>1.1458018656</td>\n",
       "      <td>164.368676</td>\n",
       "      <td>5</td>\n",
       "      <td>5</td>\n",
       "      <td>48.196786</td>\n",
       "      <td>52.870303</td>\n",
       "    </tr>\n",
       "  </tbody>\n",
       "</table>\n",
       "<p>5 rows × 64 columns</p>\n",
       "</div>"
      ],
      "text/plain": [
       "   Id   Campo1     Folio  ordenpersona  ordenviaje  PropositoEstraus  \\\n",
       "0  27  8000113  800011.0           3.0         1.0                 3   \n",
       "1  28  8000113  800011.0           3.0         2.0                 3   \n",
       "2  29  8000121  800012.0           1.0         1.0                 3   \n",
       "3  30  8000122  800012.0           2.0         1.0                 1   \n",
       "4  31  8000122  800012.0           2.0         2.0                 1   \n",
       "\n",
       "   Proposito  Proposito Volver Casa Proposito_e OrigenActividadComuna  ...  \\\n",
       "0       11.0                    NaN                        TALCAHUANO  ...   \n",
       "1        7.0                   11.0                        TALCAHUANO  ...   \n",
       "2        7.0                    7.0                        CONCEPCION  ...   \n",
       "3        1.0                    NaN                        TALCAHUANO  ...   \n",
       "4        7.0                    1.0                           HUALPEN  ...   \n",
       "\n",
       "  COMUNA DESTINO VIAJE Distancia Viaje        FEP           FCTH  \\\n",
       "0           TALCAHUANO   mayor a 10 km  44.525486  0.89884425609   \n",
       "1           TALCAHUANO   mayor a 10 km  44.525486  0.89884425609   \n",
       "2           TALCAHUANO   mayor a 10 km  44.525486   3.2218169397   \n",
       "3              HUALPEN   mayor a 10 km  44.525486   3.2218169397   \n",
       "4           TALCAHUANO   mayor a 10 km  44.525486   3.2218169397   \n",
       "\n",
       "            FCSE FEP*FCTH*FCSE Per_Mod ModoInf     Ftotal   FLaboral  \n",
       "0   0.9925434444     39.723055       4       5  51.974396  55.935987  \n",
       "1   0.9925434444     39.723055       5       5  51.974396  55.935987  \n",
       "2  0.73636750398    105.634103       2       5  46.941473  53.357253  \n",
       "3   1.1458018656    164.368676       1       5  48.196786  52.870303  \n",
       "4   1.1458018656    164.368676       5       5  48.196786  52.870303  \n",
       "\n",
       "[5 rows x 64 columns]"
      ]
     },
     "execution_count": 7,
     "metadata": {},
     "output_type": "execute_result"
    }
   ],
   "source": [
    "viajes_df.head()"
   ]
  },
  {
   "cell_type": "markdown",
   "metadata": {},
   "source": [
    "#### Insights about the distribution of different profiles\n",
    "\n",
    "Using the age, the income, and the activities of the people, we can approximate the profile distribution to be used in the GAMA simulation\n",
    "\n",
    "First, we use the age range (RangoEdad), the existing categories in the survey are:  \n",
    "\n",
    " 1 -> 0-5 y.o.   \n",
    " 2 -> 6-13 y.o.  \n",
    " 3 -> 14-17 y.o.   \n",
    " 4 -> 18-24 y.o.   \n",
    " 5 -> 25-55 y.o.   \n",
    " 6 -> 56-64 y.o.   \n",
    " 7 -> +65 y.o.   "
   ]
  },
  {
   "cell_type": "code",
   "execution_count": 8,
   "metadata": {},
   "outputs": [
    {
     "data": {
      "text/plain": [
       "0        5.0\n",
       "1        5.0\n",
       "2        5.0\n",
       "3        6.0\n",
       "4        5.0\n",
       "        ... \n",
       "26323    7.0\n",
       "26324    5.0\n",
       "26325    5.0\n",
       "26326    3.0\n",
       "26327    2.0\n",
       "Name: RangoEdad, Length: 26328, dtype: float64"
      ]
     },
     "execution_count": 8,
     "metadata": {},
     "output_type": "execute_result"
    }
   ],
   "source": [
    "persona_df.RangoEdad"
   ]
  },
  {
   "cell_type": "code",
   "execution_count": 9,
   "metadata": {},
   "outputs": [
    {
     "name": "stdout",
     "output_type": "stream",
     "text": [
      "\n",
      "Nº of surveyed by age:\n",
      "  \n",
      "Number of people in range 1: 1694\n",
      "Number of people in range 2: 2526\n",
      "Number of people in range 3: 1397\n",
      "Number of people in range 4: 3064\n",
      "Number of people in range 5: 10905\n",
      "Number of people in range 6: 2881\n",
      "Number of people in range 7: 3861\n",
      "      \n"
     ]
    }
   ],
   "source": [
    "age1 = persona_df[persona_df['RangoEdad'] == 1]\n",
    "age2 = persona_df[persona_df['RangoEdad'] == 2]\n",
    "age3 = persona_df[persona_df['RangoEdad'] == 3]\n",
    "age4 = persona_df[persona_df['RangoEdad'] == 4]\n",
    "age5 = persona_df[persona_df['RangoEdad'] == 5]\n",
    "age6 = persona_df[persona_df['RangoEdad'] == 6]\n",
    "age7 = persona_df[persona_df['RangoEdad'] == 7]\n",
    "\n",
    "\n",
    "print('''\n",
    "Nº of surveyed by age:\n",
    "  \n",
    "Number of people in range 1: %s\n",
    "Number of people in range 2: %s\n",
    "Number of people in range 3: %s\n",
    "Number of people in range 4: %s\n",
    "Number of people in range 5: %s\n",
    "Number of people in range 6: %s\n",
    "Number of people in range 7: %s\n",
    "      ''' % (len(age1),len(age2),len(age3),len(age4)\n",
    "             ,len(age5),len(age6),len(age7)))"
   ]
  },
  {
   "cell_type": "code",
   "execution_count": 10,
   "metadata": {},
   "outputs": [
    {
     "data": {
      "text/plain": [
       "([<matplotlib.patches.Wedge at 0x1a0ab18b9a0>,\n",
       "  <matplotlib.patches.Wedge at 0x1a0ab18b8b0>,\n",
       "  <matplotlib.patches.Wedge at 0x1a0acc982b0>,\n",
       "  <matplotlib.patches.Wedge at 0x1a0aa9c4f70>,\n",
       "  <matplotlib.patches.Wedge at 0x1a0acc98a90>,\n",
       "  <matplotlib.patches.Wedge at 0x1a0acc98f10>,\n",
       "  <matplotlib.patches.Wedge at 0x1a0acca83d0>],\n",
       " [Text(1.0776038017799732, 0.2208394131248962, '0-5 y.o.'),\n",
       "  Text(0.8372813797278605, 0.7134142493397579, '6-13 y.o.'),\n",
       "  Text(0.4253134475859536, 1.014449836760079, '14-17 y.o.'),\n",
       "  Text(-0.14839240898713482, 1.0899448118849848, '18-24 y.o.'),\n",
       "  Text(-1.0706880960794336, -0.25224393137159506, '25-55 y.o.'),\n",
       "  Text(0.33094326120806067, -1.049036013614868, '56-64 y.o.'),\n",
       "  Text(0.9853086105812773, -0.4890469731164819, '+65 y.o.')])"
      ]
     },
     "execution_count": 10,
     "metadata": {},
     "output_type": "execute_result"
    },
    {
     "data": {
      "image/png": "[encoded data removed]",
      "text/plain": [
       "<Figure size 640x480 with 1 Axes>"
      ]
     },
     "metadata": {},
     "output_type": "display_data"
    }
   ],
   "source": [
    "pyplot.pie([len(age1),len(age2),len(age3),len(age4),len(age5),len(age6),len(age7)], labels = [\"0-5 y.o.\", \"6-13 y.o.\", \"14-17 y.o.\", \"18-24 y.o.\", \"25-55 y.o.\", \"56-64 y.o.\", \"+65 y.o.\"])"
   ]
  },
  {
   "cell_type": "markdown",
   "metadata": {},
   "source": [
    "##### Profile creation\n",
    "To obtain the children, we use the people in age ranges 1 and 2.  \n",
    "\n",
    "The HS students would be the people in age3 with 'ActividadEstudia' set to 1 ('ActividadEstudia' == 'IsStudent').  \n",
    "\n",
    "The College students would be the people in age4 with 'ActividadEstudia' set to 1 ('ActividadEstudia' == 'IsStudent').  \n",
    "\n",
    "Retirees are people in age range 7."
   ]
  },
  {
   "cell_type": "code",
   "execution_count": 11,
   "metadata": {},
   "outputs": [],
   "source": [
    "children = pd.concat([age1, age2])\n",
    "hs_student = age3[age3['ActividadEstudia'] == 1]\n",
    "college_student = age4[age4['ActividadEstudia'] == 1]\n",
    "retirees = age7"
   ]
  },
  {
   "cell_type": "markdown",
   "metadata": {},
   "source": [
    "The adults would be people in age range 5 and 6.  \n",
    "\n",
    "The adults that are home makers are those whose 'ActividadDuenaCasa' is set to 1 ('ActividadDuenaCasa' == 'IsHomeMaker')  \n",
    "\n",
    "The adults that have a job are those whose 'ActividadTrabaja' is set to 1 ('ActividadTrabaja' == 'HasAJob') "
   ]
  },
  {
   "cell_type": "code",
   "execution_count": 12,
   "metadata": {},
   "outputs": [
    {
     "name": "stdout",
     "output_type": "stream",
     "text": [
      "\n",
      "Home Makers: 3376\n",
      "Rest of adults: 8321\n",
      "      \n"
     ]
    }
   ],
   "source": [
    "adults =  pd.concat([age5, age6])\n",
    "\n",
    "adult_rest = adults[adults['ActividadTrabaja'] == 1]\n",
    "adults_home_maker = adults[adults['ActividadDuenaCasa'] == 1]\n",
    "\n",
    "print('''\n",
    "Home Makers: %s\n",
    "Rest of adults: %s\n",
    "      ''' % (len(adults_home_maker),len(adult_rest)))"
   ]
  },
  {
   "cell_type": "markdown",
   "metadata": {},
   "source": [
    "To obtain different groups for the adults that have a job, we use their income.\n",
    "\n",
    "One possibility is using KMeans to obtain 3 groups of salaries. The higuer salary would be the Executives, the medium salary the mid-career workers, and the low salary the young professionals"
   ]
  },
  {
   "cell_type": "code",
   "execution_count": 13,
   "metadata": {},
   "outputs": [],
   "source": [
    "# We select the adults that have a not null salary\n",
    "adult_rest = adult_rest[adult_rest['IngresoPersonal'].notnull()]"
   ]
  },
  {
   "cell_type": "code",
   "execution_count": 14,
   "metadata": {},
   "outputs": [
    {
     "data": {
      "text/html": [
       "<style>#sk-container-id-1 {color: black;}#sk-container-id-1 pre{padding: 0;}#sk-container-id-1 div.sk-toggleable {background-color: white;}#sk-container-id-1 label.sk-toggleable__label {cursor: pointer;display: block;width: 100%;margin-bottom: 0;padding: 0.3em;box-sizing: border-box;text-align: center;}#sk-container-id-1 label.sk-toggleable__label-arrow:before {content: \"▸\";float: left;margin-right: 0.25em;color: #696969;}#sk-container-id-1 label.sk-toggleable__label-arrow:hover:before {color: black;}#sk-container-id-1 div.sk-estimator:hover label.sk-toggleable__label-arrow:before {color: black;}#sk-container-id-1 div.sk-toggleable__content {max-height: 0;max-width: 0;overflow: hidden;text-align: left;background-color: #f0f8ff;}#sk-container-id-1 div.sk-toggleable__content pre {margin: 0.2em;color: black;border-radius: 0.25em;background-color: #f0f8ff;}#sk-container-id-1 input.sk-toggleable__control:checked~div.sk-toggleable__content {max-height: 200px;max-width: 100%;overflow: auto;}#sk-container-id-1 input.sk-toggleable__control:checked~label.sk-toggleable__label-arrow:before {content: \"▾\";}#sk-container-id-1 div.sk-estimator input.sk-toggleable__control:checked~label.sk-toggleable__label {background-color: #d4ebff;}#sk-container-id-1 div.sk-label input.sk-toggleable__control:checked~label.sk-toggleable__label {background-color: #d4ebff;}#sk-container-id-1 input.sk-hidden--visually {border: 0;clip: rect(1px 1px 1px 1px);clip: rect(1px, 1px, 1px, 1px);height: 1px;margin: -1px;overflow: hidden;padding: 0;position: absolute;width: 1px;}#sk-container-id-1 div.sk-estimator {font-family: monospace;background-color: #f0f8ff;border: 1px dotted black;border-radius: 0.25em;box-sizing: border-box;margin-bottom: 0.5em;}#sk-container-id-1 div.sk-estimator:hover {background-color: #d4ebff;}#sk-container-id-1 div.sk-parallel-item::after {content: \"\";width: 100%;border-bottom: 1px solid gray;flex-grow: 1;}#sk-container-id-1 div.sk-label:hover label.sk-toggleable__label {background-color: #d4ebff;}#sk-container-id-1 div.sk-serial::before {content: \"\";position: absolute;border-left: 1px solid gray;box-sizing: border-box;top: 0;bottom: 0;left: 50%;z-index: 0;}#sk-container-id-1 div.sk-serial {display: flex;flex-direction: column;align-items: center;background-color: white;padding-right: 0.2em;padding-left: 0.2em;position: relative;}#sk-container-id-1 div.sk-item {position: relative;z-index: 1;}#sk-container-id-1 div.sk-parallel {display: flex;align-items: stretch;justify-content: center;background-color: white;position: relative;}#sk-container-id-1 div.sk-item::before, #sk-container-id-1 div.sk-parallel-item::before {content: \"\";position: absolute;border-left: 1px solid gray;box-sizing: border-box;top: 0;bottom: 0;left: 50%;z-index: -1;}#sk-container-id-1 div.sk-parallel-item {display: flex;flex-direction: column;z-index: 1;position: relative;background-color: white;}#sk-container-id-1 div.sk-parallel-item:first-child::after {align-self: flex-end;width: 50%;}#sk-container-id-1 div.sk-parallel-item:last-child::after {align-self: flex-start;width: 50%;}#sk-container-id-1 div.sk-parallel-item:only-child::after {width: 0;}#sk-container-id-1 div.sk-dashed-wrapped {border: 1px dashed gray;margin: 0 0.4em 0.5em 0.4em;box-sizing: border-box;padding-bottom: 0.4em;background-color: white;}#sk-container-id-1 div.sk-label label {font-family: monospace;font-weight: bold;display: inline-block;line-height: 1.2em;}#sk-container-id-1 div.sk-label-container {text-align: center;}#sk-container-id-1 div.sk-container {/* jupyter's `normalize.less` sets `[hidden] { display: none; }` but bootstrap.min.css set `[hidden] { display: none !important; }` so we also need the `!important` here to be able to override the default hidden behavior on the sphinx rendered scikit-learn.org. See: https://github.com/scikit-learn/scikit-learn/issues/21755 */display: inline-block !important;position: relative;}#sk-container-id-1 div.sk-text-repr-fallback {display: none;}</style><div id=\"sk-container-id-1\" class=\"sk-top-container\"><div class=\"sk-text-repr-fallback\"><pre>KMeans(n_clusters=3, n_init=&#x27;auto&#x27;, random_state=43)</pre><b>In a Jupyter environment, please rerun this cell to show the HTML representation or trust the notebook. <br />On GitHub, the HTML representation is unable to render, please try loading this page with nbviewer.org.</b></div><div class=\"sk-container\" hidden><div class=\"sk-item\"><div class=\"sk-estimator sk-toggleable\"><input class=\"sk-toggleable__control sk-hidden--visually\" id=\"sk-estimator-id-1\" type=\"checkbox\" checked><label for=\"sk-estimator-id-1\" class=\"sk-toggleable__label sk-toggleable__label-arrow\">KMeans</label><div class=\"sk-toggleable__content\"><pre>KMeans(n_clusters=3, n_init=&#x27;auto&#x27;, random_state=43)</pre></div></div></div></div></div>"
      ],
      "text/plain": [
       "KMeans(n_clusters=3, n_init='auto', random_state=43)"
      ]
     },
     "execution_count": 14,
     "metadata": {},
     "output_type": "execute_result"
    }
   ],
   "source": [
    "# For the rest of adults, we create the clusters using their income\n",
    "\n",
    "\n",
    "ingresos_array = adult_rest.IngresoPersonal.to_numpy().reshape(-1,1)\n",
    "\n",
    "salary_kmeans = KMeans(n_clusters=3, random_state=43, n_init='auto')\n",
    "salary_kmeans.fit(ingresos_array)"
   ]
  },
  {
   "cell_type": "code",
   "execution_count": 15,
   "metadata": {},
   "outputs": [
    {
     "name": "stdout",
     "output_type": "stream",
     "text": [
      "[[ 660004.95540139]\n",
      " [ 252379.3583468 ]\n",
      " [1428710.31746032]]\n"
     ]
    }
   ],
   "source": [
    "print(salary_kmeans.cluster_centers_)"
   ]
  },
  {
   "cell_type": "code",
   "execution_count": 16,
   "metadata": {},
   "outputs": [],
   "source": [
    "# Looking at the centroids:\n",
    "# Cluster 1 -> low salary (young professional)\n",
    "# Cluster 0 -> medium salary (mid-career workers)\n",
    "# Cluster 2 -> high salary (executives)\n",
    "\n",
    "\n",
    "def get_cluster(row):\n",
    "    return salary_kmeans.predict(np.array(row['IngresoPersonal']).reshape(-1, 1))\n",
    "    \n",
    "adult_rest['SalaryCluster'] = adult_rest.apply(lambda row: get_cluster(row), axis=1)  "
   ]
  },
  {
   "cell_type": "code",
   "execution_count": 17,
   "metadata": {},
   "outputs": [],
   "source": [
    "young_professionals = adult_rest[adult_rest['SalaryCluster'] == 1]\n",
    "mid_career = adult_rest[adult_rest['SalaryCluster'] == 0]\n",
    "executives = adult_rest[adult_rest['SalaryCluster'] == 2]"
   ]
  },
  {
   "cell_type": "markdown",
   "metadata": {},
   "source": [
    "Finally, we can obtain the number and the distribution of the different profiles"
   ]
  },
  {
   "cell_type": "code",
   "execution_count": 18,
   "metadata": {},
   "outputs": [
    {
     "name": "stdout",
     "output_type": "stream",
     "text": [
      "\n",
      "Number of HS students: 1337\n",
      "Number of College students: 2032\n",
      "Number of Young professionals: 4331\n",
      "Number of Mid-Career workers: 2018\n",
      "Number of Executives: 504\n",
      "Number of Home Maker: 3376\n",
      "Number of Retirees: 3861\n",
      "      \n"
     ]
    }
   ],
   "source": [
    "# With the data obtained, we can calculate the distribution of the profiles\n",
    "\n",
    "hs_student_number = len(hs_student)\n",
    "college_student_number = len(college_student)\n",
    "young_professionals_number = len(young_professionals)\n",
    "mid_career_number = len(mid_career)\n",
    "executives_number = len(executives)\n",
    "adults_home_maker_number = len(adults_home_maker)\n",
    "retirees_number = len(retirees)\n",
    "\n",
    "print('''\n",
    "Number of HS students: %s\n",
    "Number of College students: %s\n",
    "Number of Young professionals: %s\n",
    "Number of Mid-Career workers: %s\n",
    "Number of Executives: %s\n",
    "Number of Home Maker: %s\n",
    "Number of Retirees: %s\n",
    "      ''' % (hs_student_number,college_student_number,young_professionals_number\n",
    "             ,mid_career_number,executives_number,adults_home_maker_number,retirees_number))"
   ]
  },
  {
   "cell_type": "code",
   "execution_count": 19,
   "metadata": {},
   "outputs": [
    {
     "name": "stdout",
     "output_type": "stream",
     "text": [
      "\n",
      "Dsitribution to be used in the GAMA model (Profiles.csv):      \n",
      "      \n",
      "Proportion of HS students: 0.07657941462855834\n",
      "Proportion of College students: 0.11638696374362793\n",
      "Proportion of Young professionals: 0.24806689959333295\n",
      "Proportion of Mid-Career workers: 0.11558508505641789\n",
      "Proportion of Executives: 0.028867632739561257\n",
      "Proportion of Home Makers: 0.19336731771579127\n",
      "Proportion of Retirees: 0.22114668652271036      \n",
      "      \n"
     ]
    }
   ],
   "source": [
    "total = hs_student_number + college_student_number + young_professionals_number + mid_career_number + executives_number + adults_home_maker_number + retirees_number\n",
    "\n",
    "print('''\n",
    "Dsitribution to be used in the GAMA model (Profiles.csv):      \n",
    "      \n",
    "Proportion of HS students: %s\n",
    "Proportion of College students: %s\n",
    "Proportion of Young professionals: %s\n",
    "Proportion of Mid-Career workers: %s\n",
    "Proportion of Executives: %s\n",
    "Proportion of Home Makers: %s\n",
    "Proportion of Retirees: %s      \n",
    "      ''' % (hs_student_number/total,college_student_number/total,young_professionals_number/total\n",
    "             ,mid_career_number/total,executives_number/total,adults_home_maker_number/total,retirees_number/total))"
   ]
  },
  {
   "cell_type": "code",
   "execution_count": 20,
   "metadata": {},
   "outputs": [
    {
     "data": {
      "text/plain": [
       "([<matplotlib.patches.Wedge at 0x1a0b049e220>,\n",
       "  <matplotlib.patches.Wedge at 0x1a0b049e130>,\n",
       "  <matplotlib.patches.Wedge at 0x1a0b049ef10>,\n",
       "  <matplotlib.patches.Wedge at 0x1a0b04935e0>,\n",
       "  <matplotlib.patches.Wedge at 0x1a0b0493c70>,\n",
       "  <matplotlib.patches.Wedge at 0x1a0ad3c6340>,\n",
       "  <matplotlib.patches.Wedge at 0x1a0ad3c69d0>],\n",
       " [Text(1.0683195909730228, 0.26209397464122147, 'H.S. Students'),\n",
       "  Text(0.7286197038600577, 0.8240833253663625, 'College Students'),\n",
       "  Text(-0.44951291176518615, 1.0039612254247592, 'Young Professionals'),\n",
       "  Text(-1.0999700645659471, 0.00811523621261627, 'Mid-Career Workers'),\n",
       "  Text(-0.9921916822117672, -0.474927010970932, 'Executives'),\n",
       "  Text(-0.4547456789962539, -1.001601900674233, 'Home Makers'),\n",
       "  Text(0.8450332057149096, -0.704215081661266, 'Retirees')],\n",
       " [Text(0.582719776894376, 0.14296034980430258, '7.7%'),\n",
       "  Text(0.3974289293782132, 0.44949999565437954, '11.6%'),\n",
       "  Text(-0.24518886096282877, 0.5476152138680503, '24.8%'),\n",
       "  Text(-0.5999836715814256, 0.004426492479608874, '11.6%'),\n",
       "  Text(-0.5411954630246002, -0.25905109689323563, '2.9%'),\n",
       "  Text(-0.24804309763432025, -0.5463283094586725, '19.3%'),\n",
       "  Text(0.46092720311722335, -0.38411731726978143, '22.1%')])"
      ]
     },
     "execution_count": 20,
     "metadata": {},
     "output_type": "execute_result"
    },
    {
     "data": {
      "image/png": "[encoded data removed]",
      "text/plain": [
       "<Figure size 640x480 with 1 Axes>"
      ]
     },
     "metadata": {},
     "output_type": "display_data"
    }
   ],
   "source": [
    "profiles = [\"H.S. Students\", \"College Students\", \"Young Professionals\", \"Mid-Career Workers\", \"Executives\", \"Home Makers\", \"Retirees\"]\n",
    "pyplot.pie([hs_student_number,college_student_number,young_professionals_number,mid_career_number,executives_number,adults_home_maker_number,retirees_number], labels = profiles, autopct='%1.1f%%',)"
   ]
  },
  {
   "cell_type": "markdown",
   "metadata": {},
   "source": [
    "Aprox: Probability of having a car ~= probability of having drivers license  \n",
    "'TenenciaLicenciaConducir' != 6.0 is equal to 'DriversLicense' == 'Yes'"
   ]
  },
  {
   "cell_type": "code",
   "execution_count": 21,
   "metadata": {},
   "outputs": [
    {
     "name": "stdout",
     "output_type": "stream",
     "text": [
      "\n",
      "Dsitribution to be used in the GAMA model (Profiles.csv):      \n",
      "      \n",
      "Probabilty of having a car HS students: 0.004487658937920718\n",
      "Probabilty of having a car College students: 0.2155511811023622\n",
      "Probabilty of having a car Young professionals: 0.3334102978526899\n",
      "Probabilty of having a car Mid-Career workers: 0.7101090188305252\n",
      "Probabilty of having a car Executives: 0.9206349206349206\n",
      "Probabilty of having a car Home Maker: 0.1481042654028436\n",
      "Probabilty of having a car Retirees: 0.16653716653716655      \n",
      "      \n"
     ]
    }
   ],
   "source": [
    "\n",
    "hs_student_prob_car = len(hs_student[hs_student['TenenciaLicenciaConducir'] != 6.0]) / len(hs_student)\n",
    "college_student_prob_car = len(college_student[college_student['TenenciaLicenciaConducir'] != 6.0]) / len(college_student)\n",
    "young_professionals_prob_car = len(young_professionals[young_professionals['TenenciaLicenciaConducir'] != 6.0]) / len(young_professionals)\n",
    "mid_career_prob_car = len(mid_career[mid_career['TenenciaLicenciaConducir'] != 6.0]) / len(mid_career)\n",
    "executives_prob_car = len(executives[executives['TenenciaLicenciaConducir'] != 6.0]) / len(executives)\n",
    "adults_home_maker_prob_car = len(adults_home_maker[adults_home_maker['TenenciaLicenciaConducir'] != 6.0]) / len(adults_home_maker)\n",
    "retirees_prob_car = len(retirees[retirees['TenenciaLicenciaConducir'] != 6.0]) /  len(retirees)\n",
    "\n",
    "print('''\n",
    "Dsitribution to be used in the GAMA model (Profiles.csv):      \n",
    "      \n",
    "Probabilty of having a car HS students: %s\n",
    "Probabilty of having a car College students: %s\n",
    "Probabilty of having a car Young professionals: %s\n",
    "Probabilty of having a car Mid-Career workers: %s\n",
    "Probabilty of having a car Executives: %s\n",
    "Probabilty of having a car Home Maker: %s\n",
    "Probabilty of having a car Retirees: %s      \n",
    "      ''' % (hs_student_prob_car,college_student_prob_car,young_professionals_prob_car\n",
    "             ,mid_career_prob_car,executives_prob_car,adults_home_maker_prob_car,retirees_prob_car))"
   ]
  },
  {
   "cell_type": "code",
   "execution_count": 22,
   "metadata": {},
   "outputs": [
    {
     "data": {
      "image/png": "[encoded data removed]",
      "text/plain": [
       "<Figure size 640x480 with 1 Axes>"
      ]
     },
     "metadata": {},
     "output_type": "display_data"
    }
   ],
   "source": [
    "fig, ax = pyplot.subplots()\n",
    "\n",
    "probs = [hs_student_prob_car, college_student_prob_car, young_professionals_prob_car, mid_career_prob_car, executives_prob_car, adults_home_maker_prob_car, retirees_prob_car]\n",
    "\n",
    "ax.barh(profiles, probs)\n",
    "\n",
    "ax.set_title('Percentage of people with drivers license per profile')\n",
    "\n",
    "pyplot.show()"
   ]
  },
  {
   "cell_type": "markdown",
   "metadata": {},
   "source": [
    "#### Travels processing\n",
    "\n",
    "To gain insights of the travels of each type of profiles, first, it is needed to merge the travels dataframe with the dataframes of each profiles.  \n",
    "With this operation {profile}_travels will contain only the travels of that type of profile."
   ]
  },
  {
   "cell_type": "code",
   "execution_count": 23,
   "metadata": {},
   "outputs": [],
   "source": [
    "# Creation of new Dataframes merging the profiles with the travel information, we use left merge to ensure that all the entries of the DataFrame have travel information\n",
    "\n",
    "hs_student_travels = pd.merge(viajes_df, hs_student, on=['Folio', 'ordenpersona'], how='left')\n",
    "college_student_travels = pd.merge(viajes_df, college_student, on=['Folio', 'ordenpersona'], how='left')\n",
    "young_professionals_travels = pd.merge(viajes_df, young_professionals, on=['Folio', 'ordenpersona'], how='left')\n",
    "mid_career_travels = pd.merge(viajes_df, mid_career, on=['Folio', 'ordenpersona'], how='left')\n",
    "executives_travels = pd.merge(viajes_df, executives, on=['Folio', 'ordenpersona'], how='left')\n",
    "adults_home_maker_travels = pd.merge(viajes_df, adults_home_maker, on=['Folio', 'ordenpersona'], how='left')\n",
    "retirees_travels = pd.merge(viajes_df, retirees, on=['Folio', 'ordenpersona'], how='left')\n",
    "\n",
    "# As we are using left merge, we need to remove travels that are not of the profile\n",
    "\n",
    "hs_student_travels=hs_student_travels.dropna(subset=['Nombre_anon'])\n",
    "college_student_travels=college_student_travels.dropna(subset=['Nombre_anon'])\n",
    "young_professionals_travels=young_professionals_travels.dropna(subset=['Nombre_anon'])\n",
    "mid_career_travels=mid_career_travels.dropna(subset=['Nombre_anon'])\n",
    "executives_travels=executives_travels.dropna(subset=['Nombre_anon'])\n",
    "adults_home_maker_travels=adults_home_maker_travels.dropna(subset=['Nombre_anon'])\n",
    "retirees_travels=retirees_travels.dropna(subset=['Nombre_anon'])\n"
   ]
  },
  {
   "cell_type": "markdown",
   "metadata": {},
   "source": [
    "Now, we calculate the proportion of travels involving each of the transport modes, for each profile\n"
   ]
  },
  {
   "cell_type": "code",
   "execution_count": 24,
   "metadata": {},
   "outputs": [],
   "source": [
    "\n",
    "def print_use_of_mode(mode):\n",
    "\n",
    "      travels_hs_students_with_mode = filter_dataframe_by_mode(hs_student_travels, mode)\n",
    "      travels_college_student_travels_with_mode = filter_dataframe_by_mode(college_student_travels, mode)\n",
    "      travels_young_professionals_with_mode = filter_dataframe_by_mode(young_professionals_travels, mode)\n",
    "      travels_mid_career_with_mode = filter_dataframe_by_mode(mid_career_travels, mode)\n",
    "      travels_executives_with_mode = filter_dataframe_by_mode(executives_travels, mode)\n",
    "      travels_adults_home_maker_with_mode = filter_dataframe_by_mode(adults_home_maker_travels, mode)\n",
    "      travels_retirees_with_mode = filter_dataframe_by_mode(retirees_travels, mode)\n",
    "\n",
    "      hs_student_prop_mode = len(travels_hs_students_with_mode) / len(hs_student_travels)\n",
    "      college_student_prop_mode = len(travels_college_student_travels_with_mode) / len(college_student_travels)\n",
    "      young_professionals_prop_mode = len(travels_young_professionals_with_mode) / len(young_professionals_travels)\n",
    "      mid_career_prop_mode = len(travels_mid_career_with_mode) / len(mid_career_travels)\n",
    "      executives_prop_mode = len(travels_executives_with_mode) / len(executives_travels)\n",
    "      adults_home_maker_prop_mode = len(travels_adults_home_maker_with_mode) / len(adults_home_maker_travels)\n",
    "      retirees_prop_mode = len(travels_retirees_with_mode) /  len(retirees_travels)\n",
    "\n",
    "      print(('''\n",
    "      Dsitribution to be used in the GAMA model (Profiles.csv):      \n",
    "            \n",
    "      Proportion of travels involving a ''' + mode + ''' HS students: %s\n",
    "      Proportion of travels involving a ''' + mode + ''' College students: %s\n",
    "      Proportion of travels involving a ''' + mode + ''' Young professionals: %s\n",
    "      Proportion of travels involving a ''' + mode + ''' Mid-Career workers: %s\n",
    "      Proportion of travels involving a ''' + mode + ''' Executives: %s\n",
    "      Proportion of travels involving a ''' + mode + ''' Home Maker: %s\n",
    "      Proportion of travels involving a ''' + mode + ''' Retirees: %s      \n",
    "            ''') % (hs_student_prop_mode,college_student_prop_mode,young_professionals_prop_mode\n",
    "                  ,mid_career_prop_mode,executives_prop_mode,adults_home_maker_prop_mode,retirees_prop_mode))\n",
    "      \n",
    "      return {'hs_student' : hs_student_prop_mode, 'college_student' : college_student_prop_mode, 'young_professional': young_professionals_prop_mode, 'mid_career': mid_career_prop_mode, 'executive':executives_prop_mode, 'home_maker': adults_home_maker_prop_mode, 'retiree': retirees_prop_mode} \n",
    "\n",
    "def mode_to_numbers(mode):\n",
    "      if mode == 'Car':\n",
    "            return [1,2,7,8]\n",
    "      if mode == 'Bike':\n",
    "            return [3]\n",
    "      if mode == 'Walking':\n",
    "            return [13]\n",
    "      if mode == 'Bus':\n",
    "            return [4,5,6,9,10]      \n",
    "      \n",
    "def filter_dataframe_by_mode(dataframe, mode):\n",
    "\n",
    "      result_dataframe = pd.DataFrame()\n",
    "      for mode_number in mode_to_numbers(mode):\n",
    "            # filtered = dataframe[(dataframe['ModoEtapa1'] == mode_number) | (dataframe['ModoE2'] == mode_number) | (dataframe['ModoE3'] == mode_number) | (dataframe['ModoE4'] == mode_number)]\n",
    "            filtered = dataframe[(dataframe['ModoEtapa1'] == mode_number)]\n",
    "            result_dataframe = pd.concat([result_dataframe,  filtered])\n",
    "      \n",
    "      return result_dataframe"
   ]
  },
  {
   "cell_type": "code",
   "execution_count": 25,
   "metadata": {},
   "outputs": [
    {
     "name": "stdout",
     "output_type": "stream",
     "text": [
      "\n",
      "      Dsitribution to be used in the GAMA model (Profiles.csv):      \n",
      "            \n",
      "      Proportion of travels involving a Bike HS students: 0.007381676074685193\n",
      "      Proportion of travels involving a Bike College students: 0.022411953041622197\n",
      "      Proportion of travels involving a Bike Young professionals: 0.039792387543252594\n",
      "      Proportion of travels involving a Bike Mid-Career workers: 0.012386248736097068\n",
      "      Proportion of travels involving a Bike Executives: 0.009716599190283401\n",
      "      Proportion of travels involving a Bike Home Maker: 0.0063630940544839925\n",
      "      Proportion of travels involving a Bike Retirees: 0.013198416190057193      \n",
      "            \n"
     ]
    }
   ],
   "source": [
    "freq_bike = print_use_of_mode('Bike')"
   ]
  },
  {
   "cell_type": "code",
   "execution_count": 26,
   "metadata": {},
   "outputs": [
    {
     "name": "stdout",
     "output_type": "stream",
     "text": [
      "\n",
      "      Dsitribution to be used in the GAMA model (Profiles.csv):      \n",
      "            \n",
      "      Proportion of travels involving a Car HS students: 0.16109422492401215\n",
      "      Proportion of travels involving a Car College students: 0.13580576307363929\n",
      "      Proportion of travels involving a Car Young professionals: 0.24369747899159663\n",
      "      Proportion of travels involving a Car Mid-Career workers: 0.5343781597573306\n",
      "      Proportion of travels involving a Car Executives: 0.6777327935222672\n",
      "      Proportion of travels involving a Car Home Maker: 0.2976734937363293\n",
      "      Proportion of travels involving a Car Retirees: 0.24967003959524858      \n",
      "            \n"
     ]
    }
   ],
   "source": [
    "freq_car = print_use_of_mode('Car')"
   ]
  },
  {
   "cell_type": "code",
   "execution_count": 27,
   "metadata": {},
   "outputs": [
    {
     "name": "stdout",
     "output_type": "stream",
     "text": [
      "\n",
      "      Dsitribution to be used in the GAMA model (Profiles.csv):      \n",
      "            \n",
      "      Proportion of travels involving a Bus HS students: 0.5623100303951368\n",
      "      Proportion of travels involving a Bus College students: 0.6702241195304163\n",
      "      Proportion of travels involving a Bus Young professionals: 0.47565496786950073\n",
      "      Proportion of travels involving a Bus Mid-Career workers: 0.3402426693629929\n",
      "      Proportion of travels involving a Bus Executives: 0.16275303643724695\n",
      "      Proportion of travels involving a Bus Home Maker: 0.33525551799562536\n",
      "      Proportion of travels involving a Bus Retirees: 0.3827540695116586      \n",
      "            \n"
     ]
    }
   ],
   "source": [
    "freq_bus = print_use_of_mode('Bus')"
   ]
  },
  {
   "cell_type": "code",
   "execution_count": 28,
   "metadata": {},
   "outputs": [
    {
     "name": "stdout",
     "output_type": "stream",
     "text": [
      "\n",
      "      Dsitribution to be used in the GAMA model (Profiles.csv):      \n",
      "            \n",
      "      Proportion of travels involving a Walking HS students: 0.265740338688667\n",
      "      Proportion of travels involving a Walking College students: 0.1651547491995731\n",
      "      Proportion of travels involving a Walking Young professionals: 0.2309688581314879\n",
      "      Proportion of travels involving a Walking Mid-Career workers: 0.1064206268958544\n",
      "      Proportion of travels involving a Walking Executives: 0.145748987854251\n",
      "      Proportion of travels involving a Walking Home Maker: 0.3573275004971167\n",
      "      Proportion of travels involving a Walking Retirees: 0.35217773867135943      \n",
      "            \n"
     ]
    }
   ],
   "source": [
    "freq_walking = print_use_of_mode('Walking')"
   ]
  },
  {
   "cell_type": "code",
   "execution_count": 29,
   "metadata": {},
   "outputs": [],
   "source": [
    "def get_survey_frequencies(profile):\n",
    "    mean_freq_walking = 6 - profile[\"FreqCaminata\"].mean()\n",
    "    mean_freq_car = 6 - profile[\"FreqPrivado\"].mean()\n",
    "    mean_freq_bus = 6 - profile[\"FreqBus\"].mean()\n",
    "    mean_freq_bike = 6 - profile[\"FreqBicicleta\"].mean()\n",
    "\n",
    "    sumatory = mean_freq_walking + mean_freq_car + mean_freq_bus + mean_freq_bike\n",
    "    return mean_freq_walking / sumatory, mean_freq_car / sumatory, mean_freq_bus / sumatory, mean_freq_bike / sumatory"
   ]
  },
  {
   "cell_type": "code",
   "execution_count": 30,
   "metadata": {},
   "outputs": [],
   "source": [
    "# Objective frequencies of the use of vehicles in the GAMA simulation\n",
    "\n",
    "def get_mode_choice_profile(profile):\n",
    "\n",
    "      profile_to_df = {'hs_student' : hs_student, 'college_student' : college_student, 'young_professional': young_professionals,\n",
    "                        'mid_career': mid_career, 'executive':executives, 'home_maker': adults_home_maker, 'retiree': retirees}       \n",
    "      profile_freq_survey_walking, profile_freq_survey_car, profile_freq_survey_bus, profile_freq_survey_bike = get_survey_frequencies(profile_to_df.get(profile))\n",
    "\n",
    "      profile_freq_combin_walking = freq_walking.get(profile)\n",
    "      profile_freq_combin_car = freq_car.get(profile)\n",
    "      profile_freq_combin_bus = freq_bus.get(profile)\n",
    "      profile_freq_combin_bike = freq_bike.get(profile)\n",
    "\n",
    "\n",
    "      summ = profile_freq_combin_walking + profile_freq_combin_car + profile_freq_combin_bus + profile_freq_combin_bike\n",
    "      diff_from_1 = 1 - summ\n",
    "\n",
    "      profile_freq_combin_walking += diff_from_1 * profile_freq_survey_walking\n",
    "      profile_freq_combin_car += diff_from_1 * profile_freq_survey_car\n",
    "      profile_freq_combin_bus += diff_from_1 * profile_freq_survey_bus\n",
    "      profile_freq_combin_bike += diff_from_1 * profile_freq_survey_bike\n",
    "\n",
    "      print('''\n",
    "      Mode Choice ''' + profile + ''' (Profiles.csv) [Survey & Travels]:      \n",
    "            \n",
    "      Percentage of walking: %s\n",
    "      Percentage of car: %s\n",
    "      Percentage of bus: %s\n",
    "      Percentage of bike: %s\n",
    "            ''' % (profile_freq_combin_walking, profile_freq_combin_car,\n",
    "                  profile_freq_combin_bus, profile_freq_combin_bike))\n",
    "      \n",
    "      modes = [\"Walking\", \"Car\", \"Bus\", \"Bike\"]\n",
    "\n",
    "      fig, ax = pyplot.subplots()\n",
    "\n",
    "\n",
    "      ax.pie([profile_freq_combin_walking,profile_freq_combin_car,profile_freq_combin_bus,profile_freq_combin_bike], labels = modes, autopct='%1.1f%%', colors=[\"green\", \"red\", \"blue\", \"yellow\"],textprops={\"color\": \"black\", \"backgroundcolor\": \"white\"})\n",
    "\n",
    "\n",
    "      ax.set(aspect=\"equal\", title='Mode Choice for ' + profile)\n",
    "      pyplot.show()\n",
    "\n",
    "      "
   ]
  },
  {
   "cell_type": "code",
   "execution_count": 31,
   "metadata": {},
   "outputs": [
    {
     "name": "stdout",
     "output_type": "stream",
     "text": [
      "\n",
      "      Mode Choice hs_student (Profiles.csv) [Survey & Travels]:      \n",
      "            \n",
      "      Percentage of walking: 0.266949188439452\n",
      "      Percentage of car: 0.16183222591334837\n",
      "      Percentage of bus: 0.5633722561895058\n",
      "      Percentage of bike: 0.007846329457693873\n",
      "            \n"
     ]
    },
    {
     "data": {
      "image/png": "[encoded data removed]",
      "text/plain": [
       "<Figure size 640x480 with 1 Axes>"
      ]
     },
     "metadata": {},
     "output_type": "display_data"
    }
   ],
   "source": [
    "get_mode_choice_profile('hs_student')"
   ]
  },
  {
   "cell_type": "code",
   "execution_count": 32,
   "metadata": {},
   "outputs": [
    {
     "name": "stdout",
     "output_type": "stream",
     "text": [
      "\n",
      "      Mode Choice college_student (Profiles.csv) [Survey & Travels]:      \n",
      "            \n",
      "      Percentage of walking: 0.1673080534099776\n",
      "      Percentage of car: 0.13713279169075135\n",
      "      Percentage of bus: 0.6722953258453334\n",
      "      Percentage of bike: 0.0232638290539376\n",
      "            \n"
     ]
    },
    {
     "data": {
      "image/png": "[encoded data removed]",
      "text/plain": [
       "<Figure size 640x480 with 1 Axes>"
      ]
     },
     "metadata": {},
     "output_type": "display_data"
    }
   ],
   "source": [
    "get_mode_choice_profile('college_student')"
   ]
  },
  {
   "cell_type": "code",
   "execution_count": 33,
   "metadata": {},
   "outputs": [
    {
     "name": "stdout",
     "output_type": "stream",
     "text": [
      "\n",
      "      Mode Choice young_professional (Profiles.csv) [Survey & Travels]:      \n",
      "            \n",
      "      Percentage of walking: 0.23450702957675373\n",
      "      Percentage of car: 0.2458075587456264\n",
      "      Percentage of bus: 0.47873373130507824\n",
      "      Percentage of bike: 0.040951680372541675\n",
      "            \n"
     ]
    },
    {
     "data": {
      "image/png": "[encoded data removed]",
      "text/plain": [
       "<Figure size 640x480 with 1 Axes>"
      ]
     },
     "metadata": {},
     "output_type": "display_data"
    }
   ],
   "source": [
    "get_mode_choice_profile('young_professional')"
   ]
  },
  {
   "cell_type": "code",
   "execution_count": 34,
   "metadata": {},
   "outputs": [
    {
     "name": "stdout",
     "output_type": "stream",
     "text": [
      "\n",
      "      Mode Choice mid_career (Profiles.csv) [Survey & Travels]:      \n",
      "            \n",
      "      Percentage of walking: 0.10860267020648735\n",
      "      Percentage of car: 0.5362654231795744\n",
      "      Percentage of bus: 0.3419801423533517\n",
      "      Percentage of bike: 0.013151764260586453\n",
      "            \n"
     ]
    },
    {
     "data": {
      "image/png": "[encoded data removed]",
      "text/plain": [
       "<Figure size 640x480 with 1 Axes>"
      ]
     },
     "metadata": {},
     "output_type": "display_data"
    }
   ],
   "source": [
    "get_mode_choice_profile('mid_career')"
   ]
  },
  {
   "cell_type": "code",
   "execution_count": 35,
   "metadata": {},
   "outputs": [
    {
     "name": "stdout",
     "output_type": "stream",
     "text": [
      "\n",
      "      Mode Choice executive (Profiles.csv) [Survey & Travels]:      \n",
      "            \n",
      "      Percentage of walking: 0.14705297195715067\n",
      "      Percentage of car: 0.6790829204449845\n",
      "      Percentage of bus: 0.16357341981816131\n",
      "      Percentage of bike: 0.010290687779703381\n",
      "            \n"
     ]
    },
    {
     "data": {
      "image/png": "[encoded data removed]",
      "text/plain": [
       "<Figure size 640x480 with 1 Axes>"
      ]
     },
     "metadata": {},
     "output_type": "display_data"
    }
   ],
   "source": [
    "get_mode_choice_profile('executive')"
   ]
  },
  {
   "cell_type": "code",
   "execution_count": 36,
   "metadata": {},
   "outputs": [
    {
     "name": "stdout",
     "output_type": "stream",
     "text": [
      "\n",
      "      Mode Choice home_maker (Profiles.csv) [Survey & Travels]:      \n",
      "            \n",
      "      Percentage of walking: 0.35859541161336195\n",
      "      Percentage of car: 0.2984505351717008\n",
      "      Percentage of bus: 0.3362533089175401\n",
      "      Percentage of bike: 0.006700744297397125\n",
      "            \n"
     ]
    },
    {
     "data": {
      "image/png": "[encoded data removed]",
      "text/plain": [
       "<Figure size 640x480 with 1 Axes>"
      ]
     },
     "metadata": {},
     "output_type": "display_data"
    }
   ],
   "source": [
    "get_mode_choice_profile('home_maker')"
   ]
  },
  {
   "cell_type": "code",
   "execution_count": 37,
   "metadata": {},
   "outputs": [
    {
     "name": "stdout",
     "output_type": "stream",
     "text": [
      "\n",
      "      Mode Choice retiree (Profiles.csv) [Survey & Travels]:      \n",
      "            \n",
      "      Percentage of walking: 0.3530063812014614\n",
      "      Percentage of car: 0.25017551556310097\n",
      "      Percentage of bus: 0.383394114370236\n",
      "      Percentage of bike: 0.013423988865201514\n",
      "            \n"
     ]
    },
    {
     "data": {
      "image/png": "[encoded data removed]",
      "text/plain": [
       "<Figure size 640x480 with 1 Axes>"
      ]
     },
     "metadata": {},
     "output_type": "display_data"
    }
   ],
   "source": [
    "get_mode_choice_profile('retiree')"
   ]
  },
  {
   "cell_type": "code",
   "execution_count": 38,
   "metadata": {},
   "outputs": [
    {
     "data": {
      "image/png": "[encoded data removed]",
      "text/plain": [
       "<Figure size 640x480 with 1 Axes>"
      ]
     },
     "metadata": {},
     "output_type": "display_data"
    }
   ],
   "source": [
    "travels_walking = filter_dataframe_by_mode(viajes_df, 'Walking')\n",
    "travels_walking_prop = len(travels_walking) / len(viajes_df)\n",
    "travels_car = filter_dataframe_by_mode(viajes_df, 'Car')\n",
    "travels_car_prop = len(travels_car) / len(viajes_df)\n",
    "travels_bus = filter_dataframe_by_mode(viajes_df, 'Bus')\n",
    "travels_bus_prop = len(travels_bus) / len(viajes_df)\n",
    "travels_bike = filter_dataframe_by_mode(viajes_df, 'Bike')\n",
    "travels_bike_prop = len(travels_bike) / len(viajes_df)\n",
    "\n",
    "modes = [\"Walking\", \"Car\", \"Bus\", \"Bike\"]\n",
    "fig, ax = pyplot.subplots()\n",
    "\n",
    "ax.pie([travels_walking_prop,travels_car_prop,travels_bus_prop,travels_bike_prop], labels = modes, autopct='%1.1f%%',colors=[\"green\", \"red\", \"blue\", \"yellow\"],textprops={\"color\": \"black\", \"backgroundcolor\": \"white\"})\n",
    "\n",
    "\n",
    "ax.set(aspect=\"equal\", title='Mode Choice')\n",
    "pyplot.show()\n",
    "\n",
    "      "
   ]
  },
  {
   "cell_type": "code",
   "execution_count": null,
   "metadata": {},
   "outputs": [],
   "source": []
  }
 ],
 "metadata": {
  "kernelspec": {
   "display_name": "Python 3",
   "language": "python",
   "name": "python3"
  },
  "language_info": {
   "codemirror_mode": {
    "name": "ipython",
    "version": 3
   },
   "file_extension": ".py",
   "mimetype": "text/x-python",
   "name": "python",
   "nbconvert_exporter": "python",
   "pygments_lexer": "ipython3",
   "version": "3.8.17"
  },
  "orig_nbformat": 4
 },
 "nbformat": 4,
 "nbformat_minor": 2
}
