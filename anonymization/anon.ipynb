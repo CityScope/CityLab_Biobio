{
 "cells": [
  {
   "cell_type": "code",
   "execution_count": 5,
   "metadata": {},
   "outputs": [],
   "source": [
    "import pandas as pd\n",
    "import hashlib\n",
    "import os"
   ]
  },
  {
   "cell_type": "code",
   "execution_count": 6,
   "metadata": {},
   "outputs": [],
   "source": [
    "def generate_salt():\n",
    "    \"\"\"\n",
    "    Genera una cadena aleatoria (salt) para añadir a los datos antes de hashearlos.\n",
    "    \"\"\"\n",
    "    return os.urandom(16)  # 16 bytes para el salt (128 bits)\n",
    "\n",
    "def hash_with_salt(data, salt):\n",
    "    \"\"\"\n",
    "    Aplica el algoritmo SHA-512 para hashear los datos junto con el salt.\n",
    "    \"\"\"\n",
    "    data_with_salt = data.encode() + salt\n",
    "    hashed_data = hashlib.sha512(data_with_salt).hexdigest()\n",
    "    return hashed_data"
   ]
  },
  {
   "cell_type": "code",
   "execution_count": 11,
   "metadata": {},
   "outputs": [
    {
     "name": "stdout",
     "output_type": "stream",
     "text": [
      "  nombre  edad sensible_data  \\\n",
      "0   Juan    30         dato1   \n",
      "1    Ana    25         dato2   \n",
      "2  Pedro    40         dato3   \n",
      "3  María    35         dato4   \n",
      "\n",
      "                                     anonimized_data  \n",
      "0  1ee553f2399499de630f2dc7e29028d1a1f4e90f4c4a9f...  \n",
      "1  a209173338ced251fc943caaf77b4dab6f735c82c13035...  \n",
      "2  aa297b970d2a329fdc489f4fe0a34a9687b499c589485e...  \n",
      "3  20c846fcf011516874557a5973a03c4fe1365e52a3a6e8...  \n"
     ]
    }
   ],
   "source": [
    "# Supongamos que tienes un DataFrame llamado df y quieres anonimizar la columna 'sensible_data'\n",
    "df = pd.DataFrame({\n",
    "    'nombre': ['Juan', 'Ana', 'Pedro', 'María'],\n",
    "    'edad': [30, 25, 40, 35],\n",
    "    'sensible_data': ['dato1', 'dato2', 'dato3', 'dato4']\n",
    "})\n",
    "\n",
    "# Generar un nuevo salt para la columna sensible_data\n",
    "salt = generate_salt()\n",
    "\n",
    "# Aplicar hash y salt a cada valor de la columna sensible_data\n",
    "df['anonimized_data'] = df['sensible_data'].apply(lambda x: hash_with_salt(x, salt))\n",
    "\n",
    "print(df)"
   ]
  }
 ],
 "metadata": {
  "kernelspec": {
   "display_name": "Python 3",
   "language": "python",
   "name": "python3"
  },
  "language_info": {
   "codemirror_mode": {
    "name": "ipython",
    "version": 3
   },
   "file_extension": ".py",
   "mimetype": "text/x-python",
   "name": "python",
   "nbconvert_exporter": "python",
   "pygments_lexer": "ipython3",
   "version": "3.10.0"
  },
  "orig_nbformat": 4
 },
 "nbformat": 4,
 "nbformat_minor": 2
}
