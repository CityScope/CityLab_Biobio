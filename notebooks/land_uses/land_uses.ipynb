{
 "cells": [
  {
   "cell_type": "code",
   "execution_count": 1,
   "metadata": {},
   "outputs": [],
   "source": [
    "import geopandas as gpd\n",
    "import numpy as np\n",
    "import pandas as pd\n",
    "\n",
    "show_head = True"
   ]
  },
  {
   "cell_type": "code",
   "execution_count": 2,
   "metadata": {},
   "outputs": [
    {
     "data": {
      "text/html": [
       "<div>\n",
       "<style scoped>\n",
       "    .dataframe tbody tr th:only-of-type {\n",
       "        vertical-align: middle;\n",
       "    }\n",
       "\n",
       "    .dataframe tbody tr th {\n",
       "        vertical-align: top;\n",
       "    }\n",
       "\n",
       "    .dataframe thead th {\n",
       "        text-align: right;\n",
       "    }\n",
       "</style>\n",
       "<table border=\"1\" class=\"dataframe\">\n",
       "  <thead>\n",
       "    <tr style=\"text-align: right;\">\n",
       "      <th></th>\n",
       "      <th>Destino</th>\n",
       "      <th>Rol</th>\n",
       "      <th>Avaluo</th>\n",
       "      <th>geometry</th>\n",
       "      <th>area_predio</th>\n",
       "    </tr>\n",
       "  </thead>\n",
       "  <tbody>\n",
       "    <tr>\n",
       "      <th>0</th>\n",
       "      <td>SITIO ERIAZO</td>\n",
       "      <td>1392-2</td>\n",
       "      <td>1.091677e+09</td>\n",
       "      <td>POLYGON ((671840.723 5922742.217, 671776.826 5...</td>\n",
       "      <td>27346.338208</td>\n",
       "    </tr>\n",
       "    <tr>\n",
       "      <th>1</th>\n",
       "      <td>SITIO ERIAZO</td>\n",
       "      <td>95000-17</td>\n",
       "      <td>3.038130e+08</td>\n",
       "      <td>POLYGON ((672354.137 5923064.083, 672358.106 5...</td>\n",
       "      <td>10492.917473</td>\n",
       "    </tr>\n",
       "    <tr>\n",
       "      <th>2</th>\n",
       "      <td>BIENES COMUNES</td>\n",
       "      <td>1380-90001</td>\n",
       "      <td>4.516303e+08</td>\n",
       "      <td>POLYGON ((671968.972 5922686.292, 671968.972 5...</td>\n",
       "      <td>2466.607737</td>\n",
       "    </tr>\n",
       "  </tbody>\n",
       "</table>\n",
       "</div>"
      ],
      "text/plain": [
       "          Destino         Rol        Avaluo  \\\n",
       "0    SITIO ERIAZO      1392-2  1.091677e+09   \n",
       "1    SITIO ERIAZO    95000-17  3.038130e+08   \n",
       "2  BIENES COMUNES  1380-90001  4.516303e+08   \n",
       "\n",
       "                                            geometry   area_predio  \n",
       "0  POLYGON ((671840.723 5922742.217, 671776.826 5...  27346.338208  \n",
       "1  POLYGON ((672354.137 5923064.083, 672358.106 5...  10492.917473  \n",
       "2  POLYGON ((671968.972 5922686.292, 671968.972 5...   2466.607737  "
      ]
     },
     "metadata": {},
     "output_type": "display_data"
    }
   ],
   "source": [
    "gdf = gpd.read_file('/app/data/input/09CLBB_Predios_SII_Costanera')\n",
    "gdf['Destino'] = gdf['Destino'].fillna('NO INFORMADO')\n",
    "gdf['area_predio'] = gdf.area\n",
    "if show_head: display(gdf.head(3))"
   ]
  },
  {
   "cell_type": "code",
   "execution_count": 3,
   "metadata": {},
   "outputs": [
    {
     "data": {
      "text/html": [
       "<div>\n",
       "<style scoped>\n",
       "    .dataframe tbody tr th:only-of-type {\n",
       "        vertical-align: middle;\n",
       "    }\n",
       "\n",
       "    .dataframe tbody tr th {\n",
       "        vertical-align: top;\n",
       "    }\n",
       "\n",
       "    .dataframe thead th {\n",
       "        text-align: right;\n",
       "    }\n",
       "</style>\n",
       "<table border=\"1\" class=\"dataframe\">\n",
       "  <thead>\n",
       "    <tr style=\"text-align: right;\">\n",
       "      <th></th>\n",
       "      <th>id</th>\n",
       "      <th>left</th>\n",
       "      <th>top</th>\n",
       "      <th>right</th>\n",
       "      <th>bottom</th>\n",
       "      <th>grid_id</th>\n",
       "      <th>geometry</th>\n",
       "      <th>area_grid</th>\n",
       "    </tr>\n",
       "  </thead>\n",
       "  <tbody>\n",
       "    <tr>\n",
       "      <th>0</th>\n",
       "      <td>930.0</td>\n",
       "      <td>136684.421725</td>\n",
       "      <td>5.917619e+06</td>\n",
       "      <td>136734.421725</td>\n",
       "      <td>5.917569e+06</td>\n",
       "      <td>1</td>\n",
       "      <td>POLYGON ((671290.254 5923065.563, 671335.202 5...</td>\n",
       "      <td>2535.513020</td>\n",
       "    </tr>\n",
       "    <tr>\n",
       "      <th>1</th>\n",
       "      <td>931.0</td>\n",
       "      <td>136684.421725</td>\n",
       "      <td>5.917569e+06</td>\n",
       "      <td>136734.421725</td>\n",
       "      <td>5.917519e+06</td>\n",
       "      <td>2</td>\n",
       "      <td>POLYGON ((671312.952 5923020.615, 671357.900 5...</td>\n",
       "      <td>2535.512694</td>\n",
       "    </tr>\n",
       "    <tr>\n",
       "      <th>2</th>\n",
       "      <td>932.0</td>\n",
       "      <td>136684.421725</td>\n",
       "      <td>5.917519e+06</td>\n",
       "      <td>136734.421725</td>\n",
       "      <td>5.917469e+06</td>\n",
       "      <td>3</td>\n",
       "      <td>POLYGON ((671335.651 5922975.667, 671380.598 5...</td>\n",
       "      <td>2535.512367</td>\n",
       "    </tr>\n",
       "  </tbody>\n",
       "</table>\n",
       "</div>"
      ],
      "text/plain": [
       "      id           left           top          right        bottom  grid_id  \\\n",
       "0  930.0  136684.421725  5.917619e+06  136734.421725  5.917569e+06        1   \n",
       "1  931.0  136684.421725  5.917569e+06  136734.421725  5.917519e+06        2   \n",
       "2  932.0  136684.421725  5.917519e+06  136734.421725  5.917469e+06        3   \n",
       "\n",
       "                                            geometry    area_grid  \n",
       "0  POLYGON ((671290.254 5923065.563, 671335.202 5...  2535.513020  \n",
       "1  POLYGON ((671312.952 5923020.615, 671357.900 5...  2535.512694  \n",
       "2  POLYGON ((671335.651 5922975.667, 671380.598 5...  2535.512367  "
      ]
     },
     "metadata": {},
     "output_type": "display_data"
    }
   ],
   "source": [
    "grid = gpd.read_file('/app/data/input/grilla')\n",
    "grid['area_grid'] = grid.area\n",
    "if show_head: display(grid.head(3))"
   ]
  },
  {
   "cell_type": "code",
   "execution_count": 4,
   "metadata": {},
   "outputs": [
    {
     "data": {
      "text/html": [
       "<div>\n",
       "<style scoped>\n",
       "    .dataframe tbody tr th:only-of-type {\n",
       "        vertical-align: middle;\n",
       "    }\n",
       "\n",
       "    .dataframe tbody tr th {\n",
       "        vertical-align: top;\n",
       "    }\n",
       "\n",
       "    .dataframe thead th {\n",
       "        text-align: right;\n",
       "    }\n",
       "</style>\n",
       "<table border=\"1\" class=\"dataframe\">\n",
       "  <thead>\n",
       "    <tr style=\"text-align: right;\">\n",
       "      <th></th>\n",
       "      <th>id</th>\n",
       "      <th>left</th>\n",
       "      <th>top</th>\n",
       "      <th>right</th>\n",
       "      <th>bottom</th>\n",
       "      <th>grid_id</th>\n",
       "      <th>area_grid</th>\n",
       "      <th>Destino</th>\n",
       "      <th>Rol</th>\n",
       "      <th>Avaluo</th>\n",
       "      <th>area_predio</th>\n",
       "      <th>geometry</th>\n",
       "      <th>area</th>\n",
       "    </tr>\n",
       "  </thead>\n",
       "  <tbody>\n",
       "    <tr>\n",
       "      <th>0</th>\n",
       "      <td>1322.0</td>\n",
       "      <td>136934.421725</td>\n",
       "      <td>5.917269e+06</td>\n",
       "      <td>136984.421725</td>\n",
       "      <td>5.917219e+06</td>\n",
       "      <td>343</td>\n",
       "      <td>2535.511750</td>\n",
       "      <td>SITIO ERIAZO</td>\n",
       "      <td>1392-2</td>\n",
       "      <td>1.091677e+09</td>\n",
       "      <td>27346.338208</td>\n",
       "      <td>POLYGON ((671741.527 5922842.171, 671732.927 5...</td>\n",
       "      <td>5.256147</td>\n",
       "    </tr>\n",
       "    <tr>\n",
       "      <th>1</th>\n",
       "      <td>1323.0</td>\n",
       "      <td>136934.421725</td>\n",
       "      <td>5.917219e+06</td>\n",
       "      <td>136984.421725</td>\n",
       "      <td>5.917169e+06</td>\n",
       "      <td>344</td>\n",
       "      <td>2535.511423</td>\n",
       "      <td>SITIO ERIAZO</td>\n",
       "      <td>1392-2</td>\n",
       "      <td>1.091677e+09</td>\n",
       "      <td>27346.338208</td>\n",
       "      <td>POLYGON ((671741.527 5922842.171, 671757.492 5...</td>\n",
       "      <td>182.561854</td>\n",
       "    </tr>\n",
       "    <tr>\n",
       "      <th>2</th>\n",
       "      <td>1399.0</td>\n",
       "      <td>136984.421725</td>\n",
       "      <td>5.917269e+06</td>\n",
       "      <td>137034.421725</td>\n",
       "      <td>5.917219e+06</td>\n",
       "      <td>410</td>\n",
       "      <td>2535.511953</td>\n",
       "      <td>SITIO ERIAZO</td>\n",
       "      <td>1392-2</td>\n",
       "      <td>1.091677e+09</td>\n",
       "      <td>27346.338208</td>\n",
       "      <td>POLYGON ((671741.527 5922842.171, 671741.035 5...</td>\n",
       "      <td>48.336810</td>\n",
       "    </tr>\n",
       "  </tbody>\n",
       "</table>\n",
       "</div>"
      ],
      "text/plain": [
       "       id           left           top          right        bottom  grid_id  \\\n",
       "0  1322.0  136934.421725  5.917269e+06  136984.421725  5.917219e+06      343   \n",
       "1  1323.0  136934.421725  5.917219e+06  136984.421725  5.917169e+06      344   \n",
       "2  1399.0  136984.421725  5.917269e+06  137034.421725  5.917219e+06      410   \n",
       "\n",
       "     area_grid       Destino     Rol        Avaluo   area_predio  \\\n",
       "0  2535.511750  SITIO ERIAZO  1392-2  1.091677e+09  27346.338208   \n",
       "1  2535.511423  SITIO ERIAZO  1392-2  1.091677e+09  27346.338208   \n",
       "2  2535.511953  SITIO ERIAZO  1392-2  1.091677e+09  27346.338208   \n",
       "\n",
       "                                            geometry        area  \n",
       "0  POLYGON ((671741.527 5922842.171, 671732.927 5...    5.256147  \n",
       "1  POLYGON ((671741.527 5922842.171, 671757.492 5...  182.561854  \n",
       "2  POLYGON ((671741.527 5922842.171, 671741.035 5...   48.336810  "
      ]
     },
     "metadata": {},
     "output_type": "display_data"
    }
   ],
   "source": [
    "intersection = gpd.overlay(grid, gdf, how='intersection')\n",
    "intersection['area'] = intersection.area\n",
    "if show_head: display(intersection.head(3))"
   ]
  },
  {
   "cell_type": "code",
   "execution_count": 5,
   "metadata": {},
   "outputs": [
    {
     "data": {
      "text/html": [
       "<div>\n",
       "<style scoped>\n",
       "    .dataframe tbody tr th:only-of-type {\n",
       "        vertical-align: middle;\n",
       "    }\n",
       "\n",
       "    .dataframe tbody tr th {\n",
       "        vertical-align: top;\n",
       "    }\n",
       "\n",
       "    .dataframe thead th {\n",
       "        text-align: right;\n",
       "    }\n",
       "</style>\n",
       "<table border=\"1\" class=\"dataframe\">\n",
       "  <thead>\n",
       "    <tr style=\"text-align: right;\">\n",
       "      <th></th>\n",
       "      <th>grid_id</th>\n",
       "      <th>Destino</th>\n",
       "      <th>area</th>\n",
       "      <th>area_grid</th>\n",
       "      <th>area_predio</th>\n",
       "    </tr>\n",
       "  </thead>\n",
       "  <tbody>\n",
       "    <tr>\n",
       "      <th>0</th>\n",
       "      <td>343</td>\n",
       "      <td>SITIO ERIAZO</td>\n",
       "      <td>5.256147</td>\n",
       "      <td>2535.511750</td>\n",
       "      <td>27346.338208</td>\n",
       "    </tr>\n",
       "    <tr>\n",
       "      <th>1</th>\n",
       "      <td>344</td>\n",
       "      <td>SITIO ERIAZO</td>\n",
       "      <td>182.561854</td>\n",
       "      <td>2535.511423</td>\n",
       "      <td>27346.338208</td>\n",
       "    </tr>\n",
       "    <tr>\n",
       "      <th>2</th>\n",
       "      <td>410</td>\n",
       "      <td>SITIO ERIAZO</td>\n",
       "      <td>48.336810</td>\n",
       "      <td>2535.511953</td>\n",
       "      <td>27346.338208</td>\n",
       "    </tr>\n",
       "  </tbody>\n",
       "</table>\n",
       "</div>"
      ],
      "text/plain": [
       "   grid_id       Destino        area    area_grid   area_predio\n",
       "0      343  SITIO ERIAZO    5.256147  2535.511750  27346.338208\n",
       "1      344  SITIO ERIAZO  182.561854  2535.511423  27346.338208\n",
       "2      410  SITIO ERIAZO   48.336810  2535.511953  27346.338208"
      ]
     },
     "metadata": {},
     "output_type": "display_data"
    }
   ],
   "source": [
    "inter_cols = ['grid_id', 'Destino', 'area', 'area_grid', 'area_predio']\n",
    "intersection = intersection[inter_cols]\n",
    "if show_head: display(intersection.head(3))"
   ]
  },
  {
   "cell_type": "code",
   "execution_count": 6,
   "metadata": {},
   "outputs": [
    {
     "data": {
      "text/html": [
       "<div>\n",
       "<style scoped>\n",
       "    .dataframe tbody tr th:only-of-type {\n",
       "        vertical-align: middle;\n",
       "    }\n",
       "\n",
       "    .dataframe tbody tr th {\n",
       "        vertical-align: top;\n",
       "    }\n",
       "\n",
       "    .dataframe thead th {\n",
       "        text-align: right;\n",
       "    }\n",
       "</style>\n",
       "<table border=\"1\" class=\"dataframe\">\n",
       "  <thead>\n",
       "    <tr style=\"text-align: right;\">\n",
       "      <th></th>\n",
       "      <th>grid_id</th>\n",
       "      <th>inter_area</th>\n",
       "    </tr>\n",
       "  </thead>\n",
       "  <tbody>\n",
       "    <tr>\n",
       "      <th>393</th>\n",
       "      <td>1226</td>\n",
       "      <td>2535.610251</td>\n",
       "    </tr>\n",
       "    <tr>\n",
       "      <th>573</th>\n",
       "      <td>1484</td>\n",
       "      <td>2535.514552</td>\n",
       "    </tr>\n",
       "    <tr>\n",
       "      <th>386</th>\n",
       "      <td>1219</td>\n",
       "      <td>2535.512758</td>\n",
       "    </tr>\n",
       "  </tbody>\n",
       "</table>\n",
       "</div>"
      ],
      "text/plain": [
       "     grid_id   inter_area\n",
       "393     1226  2535.610251\n",
       "573     1484  2535.514552\n",
       "386     1219  2535.512758"
      ]
     },
     "metadata": {},
     "output_type": "display_data"
    }
   ],
   "source": [
    "total_inter_area = intersection.groupby(['grid_id'])['area'].agg('sum').reset_index().rename(columns={'area': 'inter_area'})\n",
    "if show_head: display(total_inter_area.sort_values(by=['inter_area'], ascending=False).head(3))"
   ]
  },
  {
   "cell_type": "code",
   "execution_count": 7,
   "metadata": {},
   "outputs": [
    {
     "data": {
      "text/html": [
       "<div>\n",
       "<style scoped>\n",
       "    .dataframe tbody tr th:only-of-type {\n",
       "        vertical-align: middle;\n",
       "    }\n",
       "\n",
       "    .dataframe tbody tr th {\n",
       "        vertical-align: top;\n",
       "    }\n",
       "\n",
       "    .dataframe thead th {\n",
       "        text-align: right;\n",
       "    }\n",
       "</style>\n",
       "<table border=\"1\" class=\"dataframe\">\n",
       "  <thead>\n",
       "    <tr style=\"text-align: right;\">\n",
       "      <th></th>\n",
       "      <th>grid_id</th>\n",
       "      <th>Destino</th>\n",
       "      <th>area</th>\n",
       "      <th>area_grid</th>\n",
       "      <th>area_predio</th>\n",
       "      <th>inter_area</th>\n",
       "    </tr>\n",
       "  </thead>\n",
       "  <tbody>\n",
       "    <tr>\n",
       "      <th>0</th>\n",
       "      <td>343</td>\n",
       "      <td>SITIO ERIAZO</td>\n",
       "      <td>5.256147</td>\n",
       "      <td>2535.511750</td>\n",
       "      <td>27346.338208</td>\n",
       "      <td>5.256147</td>\n",
       "    </tr>\n",
       "    <tr>\n",
       "      <th>1</th>\n",
       "      <td>344</td>\n",
       "      <td>SITIO ERIAZO</td>\n",
       "      <td>182.561854</td>\n",
       "      <td>2535.511423</td>\n",
       "      <td>27346.338208</td>\n",
       "      <td>182.561854</td>\n",
       "    </tr>\n",
       "    <tr>\n",
       "      <th>2</th>\n",
       "      <td>410</td>\n",
       "      <td>SITIO ERIAZO</td>\n",
       "      <td>48.336810</td>\n",
       "      <td>2535.511953</td>\n",
       "      <td>27346.338208</td>\n",
       "      <td>48.336810</td>\n",
       "    </tr>\n",
       "  </tbody>\n",
       "</table>\n",
       "</div>"
      ],
      "text/plain": [
       "   grid_id       Destino        area    area_grid   area_predio  inter_area\n",
       "0      343  SITIO ERIAZO    5.256147  2535.511750  27346.338208    5.256147\n",
       "1      344  SITIO ERIAZO  182.561854  2535.511423  27346.338208  182.561854\n",
       "2      410  SITIO ERIAZO   48.336810  2535.511953  27346.338208   48.336810"
      ]
     },
     "metadata": {},
     "output_type": "display_data"
    }
   ],
   "source": [
    "intersection = pd.merge(intersection, total_inter_area, on='grid_id')\n",
    "if show_head: display(intersection.head(3))"
   ]
  },
  {
   "cell_type": "code",
   "execution_count": 8,
   "metadata": {},
   "outputs": [],
   "source": [
    "intersection['property_percentage'] = intersection['area']/intersection['inter_area']"
   ]
  },
  {
   "cell_type": "code",
   "execution_count": 14,
   "metadata": {},
   "outputs": [],
   "source": [
    "intersection['information_per_property'] = -1*intersection['property_percentage']*np.log10(intersection['property_percentage'])\n",
    "diversity = intersection.groupby('grid_id')['information_per_property'].agg('sum').reset_index()"
   ]
  },
  {
   "cell_type": "code",
   "execution_count": 20,
   "metadata": {},
   "outputs": [],
   "source": [
    "diversity_map = pd.merge(diversity, grid, on='grid_id')\n",
    "diversity_map.rename(columns={'information_per_property': 'diversity'}, inplace=True)\n",
    "\n",
    "diversity_map = gpd.GeoDataFrame(data=diversity_map['diversity'], geometry=diversity_map['geometry'])"
   ]
  },
  {
   "cell_type": "code",
   "execution_count": 21,
   "metadata": {},
   "outputs": [
    {
     "data": {
      "text/plain": [
       "<Axes: >"
      ]
     },
     "execution_count": 21,
     "metadata": {},
     "output_type": "execute_result"
    },
    {
     "data": {
      "image/png": "[encoded data removed]",
      "text/plain": [
       "<Figure size 640x480 with 1 Axes>"
      ]
     },
     "metadata": {},
     "output_type": "display_data"
    }
   ],
   "source": [
    "diversity_map.plot(column='diversity')"
   ]
  }
 ],
 "metadata": {
  "kernelspec": {
   "display_name": "Python 3 (ipykernel)",
   "language": "python",
   "name": "python3"
  },
  "language_info": {
   "codemirror_mode": {
    "name": "ipython",
    "version": 3
   },
   "file_extension": ".py",
   "mimetype": "text/x-python",
   "name": "python",
   "nbconvert_exporter": "python",
   "pygments_lexer": "ipython3",
   "version": "3.9.18"
  },
  "orig_nbformat": 4
 },
 "nbformat": 4,
 "nbformat_minor": 2
}
