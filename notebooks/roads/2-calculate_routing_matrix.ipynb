{
 "cells": [
  {
   "cell_type": "code",
   "execution_count": 1,
   "metadata": {},
   "outputs": [],
   "source": [
    "import geopandas as gpd\n",
    "import pandas as pd\n",
    "import pandana as pdn\n",
    "import osmnx as ox\n",
    "import numpy as np\n",
    "\n",
    "def get_path(source ,feature, mode='caminata'):\n",
    "    return f'/app/data/{source}/red_escenario_futuro/{mode}/{feature}_conce'\n",
    "def get_input_nodes():\n",
    "    return get_path('input', 'nodes')\n",
    "def get_input_edges():\n",
    "    return get_path('input', 'edges')\n",
    "def get_output_nodes():\n",
    "    return get_path('output', 'nodes')\n",
    "def get_output_edges():\n",
    "    return get_path('output', 'edges')"
   ]
  },
  {
   "cell_type": "code",
   "execution_count": 2,
   "metadata": {},
   "outputs": [],
   "source": [
    "nodes_df = gpd.read_file(get_output_nodes())\n",
    "edges_df = gpd.read_file(get_output_edges())"
   ]
  },
  {
   "cell_type": "code",
   "execution_count": 8,
   "metadata": {},
   "outputs": [],
   "source": [
    "nodes = pd.DataFrame(\n",
    "    {\n",
    "        'osmid': nodes_df['osmid'].astype(int),\n",
    "        'lat' : nodes_df.geometry.y.astype(float),\n",
    "        'lon' : nodes_df.geometry.x.astype(float),\n",
    "        'y' : nodes_df.geometry.y.astype(float),\n",
    "        'x' : nodes_df.geometry.x.astype(float),\n",
    "    }\n",
    ")\n",
    "nodes['id'] = nodes['osmid'].values\n",
    "\n",
    "nodes = gpd.GeoDataFrame(data=nodes, geometry=nodes_df.geometry)\n",
    "nodes.set_index('osmid', inplace=True)"
   ]
  },
  {
   "cell_type": "code",
   "execution_count": 9,
   "metadata": {},
   "outputs": [],
   "source": [
    "edges = pd.DataFrame(\n",
    "    {\n",
    "        'u': edges_df['u'].astype(int),\n",
    "        'v': edges_df['v'].astype(int),\n",
    "        'from': edges_df['u'].astype(int),\n",
    "        'to': edges_df['v'].astype(int),\n",
    "        'osmid': edges_df['osmid'].astype(int),\n",
    "        'length': edges_df['length'].astype(float)\n",
    "    }\n",
    ")\n",
    "edges['key'] = 0\n",
    "edges['key'] = edges['key'].astype(int)\n",
    "edges = gpd.GeoDataFrame(data=edges, geometry=edges_df.geometry)\n",
    "edges.set_index(['u', 'v', 'key'], inplace=True)"
   ]
  },
  {
   "cell_type": "code",
   "execution_count": 10,
   "metadata": {},
   "outputs": [
    {
     "name": "stdout",
     "output_type": "stream",
     "text": [
      "Generating contraction hierarchies with 16 threads.\n",
      "Setting CH node vector of size 36958\n",
      "Setting CH edge vector of size 81667\n",
      "Range graph removed 82002 edges of 163334\n",
      ". 10% . 20% . 30% . 40% . 50% . 60% . 70% . 80% . 90% . 100%\n"
     ]
    }
   ],
   "source": [
    "net = pdn.Network(\n",
    "    nodes['lon'],\n",
    "    nodes['lat'],\n",
    "    edges['from'],\n",
    "    edges['to'],\n",
    "    edges[['length']]\n",
    ")"
   ]
  },
  {
   "cell_type": "code",
   "execution_count": 7,
   "metadata": {},
   "outputs": [
    {
     "data": {
      "text/plain": [
       "0"
      ]
     },
     "execution_count": 7,
     "metadata": {},
     "output_type": "execute_result"
    }
   ],
   "source": [
    "mask = (~edges['to'].isin(nodes['id']))|(~edges['from'].isin(nodes['id']))\n",
    "mask.sum()"
   ]
  }
 ],
 "metadata": {
  "kernelspec": {
   "display_name": "Python 3 (ipykernel)",
   "language": "python",
   "name": "python3"
  },
  "language_info": {
   "codemirror_mode": {
    "name": "ipython",
    "version": 3
   },
   "file_extension": ".py",
   "mimetype": "text/x-python",
   "name": "python",
   "nbconvert_exporter": "python",
   "pygments_lexer": "ipython3",
   "version": "3.9.18"
  }
 },
 "nbformat": 4,
 "nbformat_minor": 2
}
