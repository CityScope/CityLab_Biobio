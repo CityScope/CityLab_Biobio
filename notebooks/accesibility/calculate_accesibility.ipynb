{
 "cells": [
  {
   "cell_type": "code",
   "execution_count": 1,
   "metadata": {},
   "outputs": [],
   "source": [
    "import osmnx as ox\n",
    "import networkx as nx\n",
    "import geopandas as gpd\n",
    "import pandas as pd\n",
    "import pandana as pdn\n",
    "import numpy as np\n",
    "import matplotlib.pyplot as plt\n",
    "import contextily as ctx\n",
    "import warnings\n",
    "import os\n",
    "import json\n",
    "\n",
    "warnings.filterwarnings(\"ignore\")"
   ]
  },
  {
   "cell_type": "code",
   "execution_count": 2,
   "metadata": {},
   "outputs": [],
   "source": [
    "main_path = '/app'"
   ]
  },
  {
   "cell_type": "code",
   "execution_count": 3,
   "metadata": {},
   "outputs": [],
   "source": [
    "pois = gpd.read_file(f'{main_path}/data/input/amenities_costanera')"
   ]
  },
  {
   "cell_type": "code",
   "execution_count": 4,
   "metadata": {},
   "outputs": [
    {
     "name": "stdout",
     "output_type": "stream",
     "text": [
      "Generating contraction hierarchies with 16 threads.\n",
      "Setting CH node vector of size 37494\n",
      "Setting CH edge vector of size 82736\n",
      "Range graph removed 82736 edges of 165472\n",
      ". 10% . 20% . 30% . 40% . 50% . 60% . 70% . 80% . 90% . 100%\n"
     ]
    }
   ],
   "source": [
    "def load_pandana_network_graph():\n",
    "    graph = ox.graph_from_place(\n",
    "        \"Concepción, Chile\",\n",
    "        network_type=\"walk\",\n",
    "        simplify=False,\n",
    "    )\n",
    "\n",
    "    nodes_df, edges_df = ox.graph_to_gdfs(graph)\n",
    "    nodes_df = nodes_df.rename(columns={'x': 'lon', 'y': 'lat'})\n",
    "    nodes_df['id'] = nodes_df.index\n",
    "    edges_df['from'] = edges_df.reset_index()['u'].values\n",
    "    edges_df['to'] = edges_df.reset_index()['v'].values\n",
    "\n",
    "    net = pdn.Network(\n",
    "        nodes_df['lon'],\n",
    "        nodes_df['lat'],\n",
    "        edges_df['from'],\n",
    "        edges_df['to'],\n",
    "        edges_df[['length']]\n",
    "    )\n",
    "    return net\n",
    "\n",
    "download = False\n",
    "\n",
    "if(download):\n",
    "    net = load_pandana_network_graph()\n",
    "    net.save_hdf5(f'{main_path}/data/output/walking_actual_graph_conce.h5')\n",
    "else:\n",
    "    net = pdn.Network.from_hdf5(f'{main_path}/data/output/walking_actual_graph_conce.h5')"
   ]
  },
  {
   "cell_type": "code",
   "execution_count": 5,
   "metadata": {},
   "outputs": [],
   "source": [
    "grid = gpd.read_file(f'{main_path}/data/input/grilla')"
   ]
  },
  {
   "cell_type": "code",
   "execution_count": 6,
   "metadata": {},
   "outputs": [],
   "source": [
    "# Agrega el centroide a la grilla y los puntos (x,y)\n",
    "grid['centroid'] = grid['geometry'].centroid\n",
    "grid['x'] = grid['centroid'].x\n",
    "grid['y'] = grid['centroid'].y\n",
    "\n",
    "# Agrega los puntos (x,y) de los pois\n",
    "pois['x'] = pois['geometry'].x\n",
    "pois['y'] = pois['geometry'].y"
   ]
  },
  {
   "cell_type": "code",
   "execution_count": 7,
   "metadata": {},
   "outputs": [],
   "source": [
    "grid['nearest_node'] = net.get_node_ids(grid['x'], grid['y'])\n",
    "pois['nearest_node'] = net.get_node_ids(pois['x'], pois['y'])"
   ]
  },
  {
   "cell_type": "code",
   "execution_count": 8,
   "metadata": {},
   "outputs": [],
   "source": [
    "pois.to_file(f'{main_path}/data/output/multiprocess_pois')"
   ]
  },
  {
   "cell_type": "markdown",
   "metadata": {},
   "source": [
    "Método utilizando un solo procesador"
   ]
  },
  {
   "cell_type": "code",
   "execution_count": 9,
   "metadata": {},
   "outputs": [],
   "source": [
    "n_rank = 3\n",
    "output_cols = ['grid_id', 'rank', 'origin', 'destination', 'path_lengths', 'Category', 'Subcategor', 'geometry']\n",
    "\n",
    "categories = pois['Category'].unique()\n",
    "df_output = []\n",
    "\n",
    "for category in categories:\n",
    "    mask = pois['Category']==category\n",
    "    destination_nodes = pois.loc[mask, 'nearest_node']\n",
    "    for index, row in grid.iterrows():\n",
    "        origin_node = grid.loc[index, 'nearest_node']\n",
    "        origin_nodes = [origin_node]*len(destination_nodes)\n",
    "        shortest_path_lengths = net.shortest_path_lengths(origin_nodes, destination_nodes)\n",
    "        df = pd.DataFrame.from_dict({\n",
    "            'origin': origin_nodes,\n",
    "            'destination': destination_nodes,\n",
    "            'path_lengths': shortest_path_lengths,\n",
    "        })\n",
    "        df.sort_values(by='path_lengths', inplace=True)\n",
    "        df = df.head(n_rank)\n",
    "        df['grid_id'] = grid.loc[index, 'grid_id']\n",
    "        df.reset_index(inplace=True, drop=True)\n",
    "        df['rank'] = df.index + 1\n",
    "        df = pd.merge(df, pois[mask].rename(columns={'nearest_node': 'destination'}), on='destination')\n",
    "\n",
    "        df_output.append(df[output_cols])\n",
    "\n",
    "df_output = pd.concat(df_output)"
   ]
  },
  {
   "cell_type": "code",
   "execution_count": null,
   "metadata": {},
   "outputs": [
    {
     "ename": "NameError",
     "evalue": "name 'df_output' is not defined",
     "output_type": "error",
     "traceback": [
      "\u001b[1;31m---------------------------------------------------------------------------\u001b[0m",
      "\u001b[1;31mNameError\u001b[0m                                 Traceback (most recent call last)",
      "\u001b[1;32mc:\\Users\\CityLab Biobio - DS\\Dev\\ds_ccp\\notebooks\\accesibility\\calculate_accesibility.ipynb Cell 11\u001b[0m line \u001b[0;36m1\n\u001b[1;32m----> <a href='vscode-notebook-cell:/c%3A/Users/CityLab%20Biobio%20-%20DS/Dev/ds_ccp/notebooks/accesibility/calculate_accesibility.ipynb#X20sZmlsZQ%3D%3D?line=0'>1</a>\u001b[0m df_output\n",
      "\u001b[1;31mNameError\u001b[0m: name 'df_output' is not defined"
     ]
    }
   ],
   "source": [
    "df_output"
   ]
  }
 ],
 "metadata": {
  "kernelspec": {
   "display_name": "Python 3 (ipykernel)",
   "language": "python",
   "name": "python3"
  },
  "language_info": {
   "codemirror_mode": {
    "name": "ipython",
    "version": 3
   },
   "file_extension": ".py",
   "mimetype": "text/x-python",
   "name": "python",
   "nbconvert_exporter": "python",
   "pygments_lexer": "ipython3",
   "version": "3.9.18"
  }
 },
 "nbformat": 4,
 "nbformat_minor": 2
}
